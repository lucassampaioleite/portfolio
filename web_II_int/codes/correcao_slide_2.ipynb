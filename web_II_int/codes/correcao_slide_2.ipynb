{
 "cells": [
  {
   "cell_type": "markdown",
   "id": "8a8c5537",
   "metadata": {},
   "source": [
    "### Exercícios de Revisão Python (slide aula 2)  "
   ]
  },
  {
   "cell_type": "markdown",
   "id": "5a92d92a",
   "metadata": {},
   "source": [
    "1. Dados três valores distintos, fazer um programa que, após a leitura destes dados, coloque-os em ordem crescente (não usar listas ou ordenação)."
   ]
  },
  {
   "cell_type": "code",
   "execution_count": 1,
   "id": "b0de5cc8",
   "metadata": {},
   "outputs": [
    {
     "name": "stdout",
     "output_type": "stream",
     "text": [
      "Números digitados em ordem crescente: 1.0, 2.0, 3.0.\n"
     ]
    }
   ],
   "source": [
    "n1 = float(input(\"Digite o primeiro número: \"))\n",
    "n2 = float(input(\"Digite o segundo número: \"))\n",
    "n3 = float(input(\"Digite o terceiro número: \"))\n",
    "\n",
    "if n1 > n2:\n",
    "    aux = n2\n",
    "    n2 = n1\n",
    "    n1 = aux\n",
    "if n2 > n3:\n",
    "    aux = n3\n",
    "    n3 = n2\n",
    "    n2 = aux\n",
    "if n1 > n2:\n",
    "    aux = n2\n",
    "    n2 = n1\n",
    "    n1 = aux\n",
    "print(f\"Números digitados em ordem crescente: {n1}, {n2}, {n3}.\")"
   ]
  },
  {
   "cell_type": "code",
   "execution_count": 2,
   "id": "e0b3b9db",
   "metadata": {},
   "outputs": [
    {
     "name": "stdout",
     "output_type": "stream",
     "text": [
      "Números digitados em ordem crescente: 1.0 2.0 3.0\n"
     ]
    }
   ],
   "source": [
    "n1 = float(input(\"Digite o primeiro número: \"))\n",
    "n2 = float(input(\"Digite o segundo número: \"))\n",
    "n3 = float(input(\"Digite o terceiro número: \"))\n",
    "\n",
    "print(f\"Números digitados em ordem crescente:\", end=\" \")\n",
    "if n1 < n2 and n2 < n3:\n",
    "    print(f\"{n1} {n2} {n3}\")\n",
    "elif n1 < n3 and n3 < n2:\n",
    "    print(f\"{n1} {n3} {n2}\")\n",
    "elif n2 < n1 and n1 < n3:\n",
    "    print(f\"{n2} {n1} {n3}\")\n",
    "elif n2 < n3 and n3 < n1:\n",
    "    print(f\"{n2} {n3} {n1}\")\n",
    "elif n3 < n1 and n1 < n2:\n",
    "    print(f\"{n3} {n1} {n2}\")\n",
    "else:\n",
    "    print(f\"{n3} {n2} {n1}\")"
   ]
  },
  {
   "cell_type": "markdown",
   "id": "73c552c2",
   "metadata": {},
   "source": [
    "2. Escreva um programa que imprime todos os numeros de 0 até 50, incluindo-os."
   ]
  },
  {
   "cell_type": "code",
   "execution_count": 3,
   "id": "ada0983f",
   "metadata": {},
   "outputs": [
    {
     "name": "stdout",
     "output_type": "stream",
     "text": [
      "0 1 2 3 4 5 6 7 8 9 10 11 12 13 14 15 16 17 18 19 20 21 22 23 24 25 26 27 28 29 30 31 32 33 34 35 36 37 38 39 40 41 42 43 44 45 46 47 48 49 50 "
     ]
    }
   ],
   "source": [
    "i = 0\n",
    "while (i <= 50):\n",
    "    print(i, end=\" \")\n",
    "    i = i+1"
   ]
  },
  {
   "cell_type": "code",
   "execution_count": 4,
   "id": "667238d0",
   "metadata": {},
   "outputs": [
    {
     "name": "stdout",
     "output_type": "stream",
     "text": [
      "0 1 2 3 4 5 6 7 8 9 10 11 12 13 14 15 16 17 18 19 20 21 22 23 24 25 26 27 28 29 30 31 32 33 34 35 36 37 38 39 40 41 42 43 44 45 46 47 48 49 50 "
     ]
    }
   ],
   "source": [
    "for i in range(51):\n",
    "    print(i, end=\" \")"
   ]
  },
  {
   "cell_type": "markdown",
   "id": "a621e9a2",
   "metadata": {},
   "source": [
    "3. Escreva um programa para contar a quantidade de números pares entre dois números quaisquer fornecidos pelo usuário? Obs: Considerar intervalo crescente e decrescente."
   ]
  },
  {
   "cell_type": "code",
   "execution_count": 5,
   "id": "28b6d9a4",
   "metadata": {},
   "outputs": [
    {
     "name": "stdout",
     "output_type": "stream",
     "text": [
      "Existem 4 números pares entre 2 e 8.\n"
     ]
    }
   ],
   "source": [
    "n1 = int(input(\"Digite um número inteiro: \"))\n",
    "n2 = int(input(\"Digite um outro número inteiro: \"))\n",
    "contador_pares = 0\n",
    "\n",
    "if n1 < n2:\n",
    "    i = n1\n",
    "    while i <= n2:\n",
    "        if i % 2 == 0:\n",
    "            contador_pares += 1\n",
    "        i += 1\n",
    "else:\n",
    "    i = n2\n",
    "    while i <= n1:\n",
    "        if i % 2 == 0:\n",
    "            contador_pares += 1\n",
    "        i += 1\n",
    "print(f\"Existem {contador_pares} números pares entre {n1} e {n2}.\")"
   ]
  },
  {
   "cell_type": "code",
   "execution_count": 6,
   "id": "f17f6693",
   "metadata": {},
   "outputs": [
    {
     "name": "stdout",
     "output_type": "stream",
     "text": [
      "Existem 4 números pares entre 8 e 2.\n"
     ]
    }
   ],
   "source": [
    "n1 = int(input(\"Digite um número inteiro: \"))\n",
    "n2 = int(input(\"Digite um outro número inteiro: \"))\n",
    "contador_pares = 0\n",
    "\n",
    "if n1 < n2:\n",
    "    for i in range(n1, n2+1):\n",
    "        if i % 2 == 0:\n",
    "            contador_pares += 1\n",
    "else:\n",
    "    for i in range(n2, n1+1):\n",
    "        if i % 2 == 0:\n",
    "            contador_pares += 1\n",
    "print(f\"Existem {contador_pares} números pares entre {n1} e {n2}.\")"
   ]
  },
  {
   "cell_type": "markdown",
   "id": "295a2f7f",
   "metadata": {},
   "source": [
    "4. Escreva um programa para calcular o fatorial de um número fornecido pelo usuário."
   ]
  },
  {
   "cell_type": "code",
   "execution_count": 7,
   "id": "658f0312",
   "metadata": {},
   "outputs": [
    {
     "name": "stdout",
     "output_type": "stream",
     "text": [
      "O fatorial de 5 é 120.\n"
     ]
    }
   ],
   "source": [
    "numero = int(input(\"Digite um número inteiro positivo: \"))\n",
    "fatorial = 1\n",
    "\n",
    "for i in range(1, numero+1):\n",
    "    fatorial *= i\n",
    "print(f\"O fatorial de {numero} é {fatorial}.\")"
   ]
  },
  {
   "cell_type": "code",
   "execution_count": 8,
   "id": "6a137edd",
   "metadata": {},
   "outputs": [
    {
     "name": "stdout",
     "output_type": "stream",
     "text": [
      "O fatorial de 5 é 120.\n"
     ]
    }
   ],
   "source": [
    "numero = int(input(\"Digite um número inteiro positivo: \"))\n",
    "fatorial = 1\n",
    "\n",
    "for i in range(numero, 0, -1):\n",
    "    fatorial *= i\n",
    "print(f\"O fatorial de {numero} é {fatorial}.\")"
   ]
  },
  {
   "cell_type": "code",
   "execution_count": 9,
   "id": "27aa49a2",
   "metadata": {},
   "outputs": [
    {
     "name": "stdout",
     "output_type": "stream",
     "text": [
      "O fatorial de 5 é 120.\n"
     ]
    }
   ],
   "source": [
    "numero = int(input(\"Digite um número inteiro positivo: \"))\n",
    "fatorial = 1\n",
    "i = numero\n",
    "while i >= 1:\n",
    "    fatorial *= i\n",
    "    i -= 1\n",
    "print(f\"O fatorial de {numero} é {fatorial}.\")"
   ]
  },
  {
   "cell_type": "markdown",
   "id": "c07cd25e",
   "metadata": {},
   "source": [
    "5. Faça um programa que a partir de uma string que representa uma cadeia de DNA, gera a cadeia complementar. A entrada e saída de dados deve ser feita pelo programa principal. \n",
    "Exemplo:        Entrada: AATCTGCAC\n",
    "                Saída: TTAGACGTG"
   ]
  },
  {
   "cell_type": "code",
   "execution_count": 10,
   "id": "6bb49da3",
   "metadata": {},
   "outputs": [
    {
     "name": "stdout",
     "output_type": "stream",
     "text": [
      "Cadeia de DNA: AATCTGCAC\n",
      "Cadeia de DNA complementar: TTAGACGTG\n"
     ]
    }
   ],
   "source": [
    "sequencia = input(\"Digite uma cadeia de DNA: \").upper()\n",
    "complementar = ''\n",
    "for i in range(len(sequencia)):\n",
    "    if (sequencia[i] == \"A\"):\n",
    "        complementar += \"T\"\n",
    "    elif (sequencia[i] == \"T\"):\n",
    "        complementar += \"A\"\n",
    "    elif (sequencia[i] == \"G\"):\n",
    "        complementar += \"C\"\n",
    "    elif (sequencia[i] == \"C\"):\n",
    "        complementar += \"G\"\n",
    "    else:\n",
    "        print(f\"O caractere da posição[{i}] é inválido!\")\n",
    "print(f\"Cadeia de DNA: {sequencia}\")\n",
    "print(f\"Cadeia de DNA complementar: {complementar}\")"
   ]
  },
  {
   "cell_type": "code",
   "execution_count": 11,
   "id": "5cf06841",
   "metadata": {},
   "outputs": [
    {
     "name": "stdout",
     "output_type": "stream",
     "text": [
      "Cadeia de DNA: AATCTGCAC\n",
      "Cadeia de DNA complementar: TTAGACGTG\n"
     ]
    }
   ],
   "source": [
    "sequencia = input(\"Digite uma cadeia de DNA: \").upper()\n",
    "complementar = sequencia.replace(\"A\", \"t\").replace(\n",
    "    \"T\", \"a\").replace(\"C\", \"g\").replace(\"G\", \"c\").upper()\n",
    "print(f\"Cadeia de DNA: {sequencia}\")\n",
    "print(f\"Cadeia de DNA complementar: {complementar}\")"
   ]
  },
  {
   "cell_type": "markdown",
   "id": "c6dfcfae",
   "metadata": {},
   "source": [
    "6. Faça um programa em que troque todas as ocorrencias de uma letra L1 pela letra L2 e da L2 pela L1 em uma string. A string e as letras L1 e L2 devem ser fornecidas pelo usuario.\n",
    "Obs: Não utilize a função replace()."
   ]
  },
  {
   "cell_type": "code",
   "execution_count": 12,
   "id": "4255c0af",
   "metadata": {},
   "outputs": [
    {
     "name": "stdout",
     "output_type": "stream",
     "text": [
      "String original: Paralelepípedo \n",
      "String modificada: Paral3l3píp3do\n"
     ]
    }
   ],
   "source": [
    "palavra = input(\"Digite uma string: \")\n",
    "letra1 = input(\"Digite uma letra L1: \")\n",
    "letra2 = input(\"Digite uma letra L2: \")\n",
    "nova_palavra = \"\"\n",
    "\n",
    "for char in palavra:\n",
    "    if char == letra1:\n",
    "        nova_palavra += letra2\n",
    "    elif char == letra2:\n",
    "        nova_palavra += letra1\n",
    "    else:\n",
    "        nova_palavra += char\n",
    "\n",
    "print(f\"String original: {palavra} \\nString modificada: {nova_palavra}\")"
   ]
  },
  {
   "cell_type": "markdown",
   "id": "f56b1de7",
   "metadata": {},
   "source": [
    "7. Faça um programa que armazene as idades e as alturas de 4 alunos. Seu programa deve exibir quantos alunos com mais de 13 anos possuem uma altura inferior à altura média dentre todos os alunos."
   ]
  },
  {
   "cell_type": "code",
   "execution_count": 13,
   "id": "33addbc4",
   "metadata": {},
   "outputs": [
    {
     "name": "stdout",
     "output_type": "stream",
     "text": [
      "Existem 1 alunos com mais de 13 anos e que possuem altura inferior a média dentre todos os alunos\n"
     ]
    }
   ],
   "source": [
    "idades = []\n",
    "alturas = []\n",
    "contador_estudantes=0\n",
    "\n",
    "for i in range(4):\n",
    "    idades.append(int(input(f\"Digite a idade do {i+1}º aluno: \")))\n",
    "    alturas.append(float(input(f\"Digite a altura do {i+1}º aluno: \")))\n",
    "    \n",
    "media_alturas = sum(alturas)/len(alturas)\n",
    "\n",
    "for i in range(len(idades)):\n",
    "    if idades[i] > 13 and alturas[i] < media_alturas:\n",
    "        contador_estudantes+=1\n",
    "print(f\"Existem {contador_estudantes} alunos com mais de 13 anos e que possuem altura inferior a média dentre todos os alunos\")"
   ]
  },
  {
   "cell_type": "markdown",
   "id": "cb5a6c9e",
   "metadata": {},
   "source": [
    "8. Modifique o programa da questão 3 para que o programa funcione para qualquer quantidade de alunos. Assim, durante a leitura das idades e alturas o usuário poderá inserir um valor negativo para indicar que deseja interromper a leitura dos dados."
   ]
  },
  {
   "cell_type": "code",
   "execution_count": 14,
   "id": "3b3960c5",
   "metadata": {},
   "outputs": [
    {
     "name": "stdout",
     "output_type": "stream",
     "text": [
      "Existem 1 alunos com mais de 13 anos e que possuem altura inferior a média dentre todos os alunos\n"
     ]
    }
   ],
   "source": [
    "idades = []\n",
    "alturas = []\n",
    "contador_estudantes=0\n",
    "\n",
    "while True:\n",
    "    age = int(input(f\"Digite a idade do {len(idades)+1}º aluno: \"))\n",
    "    if age < 0:\n",
    "        break\n",
    "    idades.append(age)\n",
    "    alturas.append(float(input(f\"Digite a altura do {len(idades)+1}º aluno: \")))\n",
    "\n",
    "media_alturas = sum(alturas)/len(alturas)\n",
    "\n",
    "for i in range(len(idades)):\n",
    "    if idades[i] > 13 and alturas[i] < media_alturas:\n",
    "        contador_estudantes+=1\n",
    "print(f\"Existem {contador_estudantes} alunos com mais de 13 anos e que possuem altura inferior a média dentre todos os alunos\")"
   ]
  },
  {
   "cell_type": "markdown",
   "id": "1376fca8",
   "metadata": {},
   "source": [
    "9. Escreva um programa que compare duas tuplas e imprima:\n",
    "a) uma lista com os valores comuns às duas tuplas\n",
    "b) uma lista com os valores que só existem na primeira tupla\n",
    "c) uma lista com os valores que existem apenas na segunda tupla\n",
    "d) uma lista com com os elementos não repetidos das duas tuplas."
   ]
  },
  {
   "cell_type": "code",
   "execution_count": 15,
   "id": "5a5a9466",
   "metadata": {},
   "outputs": [
    {
     "name": "stdout",
     "output_type": "stream",
     "text": [
      "Tupla 1: (0, 1, 2, 3, 4, 5)\n",
      "Tupla 2: (3, 4, 5, 6, 7, 8)\n",
      "Valores comuns às duas tuplas: [3, 4, 5]\n",
      "Valores que só existem na primeira tupla: [0, 1, 2]\n",
      "Valores que existem apenas na segunda tupla: [6, 7, 8]\n",
      "Elementos não repetidos das duas tuplas: [0, 1, 2, 6, 7, 8]\n"
     ]
    }
   ],
   "source": [
    "comuns = []\n",
    "exclusivos_primeira = []\n",
    "exclusivos_segunda=[]\n",
    "\n",
    "tupla1 = (0, 1, 2, 3, 4, 5)\n",
    "tupla2 = (3, 4, 5, 6, 7, 8)\n",
    "\n",
    "for elemento in tupla1:\n",
    "    if elemento in tupla2: \n",
    "        comuns.append(elemento)\n",
    "    else:\n",
    "        exclusivos_primeira.append(elemento)\n",
    "\n",
    "for elemento in tupla2:\n",
    "    if elemento not in tupla1: \n",
    "        exclusivos_segunda.append(elemento)\n",
    "        \n",
    "print(\"Tupla 1:\", tupla1)\n",
    "print(\"Tupla 2:\", tupla2)\n",
    "print(\"Valores comuns às duas tuplas:\", comuns)\n",
    "print(\"Valores que só existem na primeira tupla:\", exclusivos_primeira)\n",
    "print(\"Valores que existem apenas na segunda tupla:\", exclusivos_segunda)\n",
    "print(\"Elementos não repetidos das duas tuplas:\", exclusivos_primeira + exclusivos_segunda)\n"
   ]
  }
 ],
 "metadata": {
  "kernelspec": {
   "display_name": "Python 3",
   "language": "python",
   "name": "python3"
  },
  "language_info": {
   "codemirror_mode": {
    "name": "ipython",
    "version": 3
   },
   "file_extension": ".py",
   "mimetype": "text/x-python",
   "name": "python",
   "nbconvert_exporter": "python",
   "pygments_lexer": "ipython3",
   "version": "3.11.10"
  }
 },
 "nbformat": 4,
 "nbformat_minor": 5
}
