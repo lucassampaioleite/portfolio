{
 "cells": [
  {
   "cell_type": "markdown",
   "id": "336683b8",
   "metadata": {},
   "source": [
    "# Exercícios: Tuplas"
   ]
  },
  {
   "cell_type": "markdown",
   "id": "89000152",
   "metadata": {},
   "source": [
    "1. Crie uma tupla chamada aluno contendo o nome, idade e nota final de um aluno. Imprima o nome e a nota final usando indexação."
   ]
  },
  {
   "cell_type": "code",
   "execution_count": 1,
   "id": "b1a020d8",
   "metadata": {},
   "outputs": [
    {
     "name": "stdout",
     "output_type": "stream",
     "text": [
      "Nome: Maria\n",
      "Nota final: 8.7\n"
     ]
    }
   ],
   "source": [
    "aluno = (\"Maria\", 20, 8.7)\n",
    "\n",
    "print(\"Nome:\", aluno[0])\n",
    "print(\"Nota final:\", aluno[2])"
   ]
  },
  {
   "cell_type": "markdown",
   "id": "922746e6",
   "metadata": {},
   "source": [
    "2. Crie uma função chamada valores que retorna três números quaisquer. Atribua o retorno da função a uma tupla chamada resultado. Imprima o resultado e seu tipo."
   ]
  },
  {
   "cell_type": "code",
   "execution_count": null,
   "id": "7aeb53ef",
   "metadata": {},
   "outputs": [
    {
     "name": "stdout",
     "output_type": "stream",
     "text": [
      "Resultado: (10, 20, 30)\n",
      "Tipo: <class 'tuple'>\n"
     ]
    }
   ],
   "source": [
    "def valores():\n",
    "    return 10, 20, 30  \n",
    "\n",
    "resultado = valores()\n",
    "\n",
    "print(\"Resultado:\", resultado)\n",
    "print(\"Tipo:\", type(resultado))"
   ]
  },
  {
   "cell_type": "markdown",
   "id": "8b5569ad",
   "metadata": {},
   "source": [
    "3. Dadas as tuplas: t1 = (1, 2) e t2 = (3, 4). Crie uma nova tupla t3 concatenando t1 e t2. Crie outra tupla t4 repetindo t1 três vezes. Imprima t3 e t4."
   ]
  },
  {
   "cell_type": "code",
   "execution_count": 1,
   "id": "77e834b3",
   "metadata": {},
   "outputs": [
    {
     "name": "stdout",
     "output_type": "stream",
     "text": [
      "t3: (1, 2, 3, 4)\n",
      "t4: (1, 2, 1, 2, 1, 2)\n"
     ]
    }
   ],
   "source": [
    "t1 = (1, 2)\n",
    "t2 = (3, 4)\n",
    "\n",
    "t3 = t1 + t2\n",
    "\n",
    "t4 = t1 * 3\n",
    "\n",
    "print(\"t3:\", t3)\n",
    "print(\"t4:\", t4)"
   ]
  },
  {
   "cell_type": "markdown",
   "id": "d9966027",
   "metadata": {},
   "source": [
    "4. Dada uma lista de números, escreva um programa em Python que contenha uma função capaz de receber essa lista e retornar uma nova lista de tuplas, em que o primeiro elemento de cada tupla seja o número original e o segundo elemento seja o seu cubo. Em seguida, imprima a lista de entrada e o resultado, conforme o exemplo abaixo:"
   ]
  },
  {
   "cell_type": "code",
   "execution_count": 3,
   "id": "5aa8180c",
   "metadata": {},
   "outputs": [
    {
     "name": "stdout",
     "output_type": "stream",
     "text": [
      "Entrada: [9, 5, 6]\n",
      "Resultado: [(9, 729), (5, 125), (6, 216)]\n"
     ]
    }
   ],
   "source": [
    "def lista_com_cubos(lista):\n",
    "    nova_lista = []\n",
    "    for num in lista:\n",
    "        nova_lista.append((num, num**3))\n",
    "    return nova_lista\n",
    "\n",
    "numeros = [9, 5, 6]\n",
    "\n",
    "resultado = lista_com_cubos(numeros)\n",
    "\n",
    "print(\"Entrada:\", numeros)\n",
    "print(\"Resultado:\", resultado)"
   ]
  },
  {
   "cell_type": "markdown",
   "id": "2aecbe3a",
   "metadata": {},
   "source": [
    "5. Dado um texto armazenado em uma string, escreva um programa em Python que conte a quantidade de ocorrências de cada palavra. O programa deve imprimir uma lista de tuplas, em que cada tupla contenha a palavra e o número de vezes que ela aparece no texto. Exemplo de entrada: “A casa é bonita, a casa é azul”\n",
    "Saída: [('A', 1), ('casa', 2), ('é', 2), ('bonita,', 1), ('a', 1), ('azul', 1)]"
   ]
  },
  {
   "cell_type": "code",
   "execution_count": 5,
   "id": "790be683",
   "metadata": {},
   "outputs": [
    {
     "name": "stdout",
     "output_type": "stream",
     "text": [
      "[('A', 1), ('casa', 2), ('é', 2), ('bonita', 1), ('a', 1), ('azul', 1)]\n"
     ]
    }
   ],
   "source": [
    "texto = \"A casa é bonita, a casa é azul\"\n",
    "\n",
    "texto = texto.strip().replace('.', '').replace(',', '').replace('!', '').replace('?', '').replace('_', '')\n",
    "\n",
    "texto = texto.split()\n",
    "\n",
    "palavras_unicas = []\n",
    "resultado = []\n",
    "\n",
    "for palavra in texto:\n",
    "    if palavra not in palavras_unicas:\n",
    "        palavras_unicas.append(palavra)\n",
    "\n",
    "for palavra in palavras_unicas:\n",
    "    resultado.append((palavra, texto.count(palavra)))\n",
    "\n",
    "print(resultado)"
   ]
  },
  {
   "cell_type": "code",
   "execution_count": 6,
   "id": "a3d1a1c9",
   "metadata": {},
   "outputs": [
    {
     "name": "stdout",
     "output_type": "stream",
     "text": [
      "[('a', 1), ('A', 1), ('é', 2), ('bonita', 1), ('azul', 1), ('casa', 2)]\n"
     ]
    }
   ],
   "source": [
    "texto = \"A casa é bonita, a casa é azul\"\n",
    "\n",
    "texto = texto.strip().replace('.', '').replace(',', '').replace('!', '').replace('?', '').replace('_', '')\n",
    "\n",
    "texto = texto.split()\n",
    "\n",
    "palavras_unicas = list(set(texto))\n",
    "resultado = []\n",
    "\n",
    "for palavra in palavras_unicas:\n",
    "    resultado.append((palavra, texto.count(palavra)))\n",
    "\n",
    "print(resultado)"
   ]
  },
  {
   "cell_type": "markdown",
   "id": "5f0e387d",
   "metadata": {},
   "source": [
    "6. Crie um programa que registre os dados dos alunos de uma turma, incluindo nome, idade e notas. Utilize uma lista de tuplas para armazenar os registros dos alunos e permita a busca de um aluno pelo nome."
   ]
  },
  {
   "cell_type": "code",
   "execution_count": 2,
   "id": "70f1d0ce",
   "metadata": {},
   "outputs": [
    {
     "name": "stdout",
     "output_type": "stream",
     "text": [
      "\n",
      "MENU: \n",
      "\n",
      "[1] - Novo registro\n",
      "[2] - Busca por nome\n",
      "[3] - Sair\n",
      "\n",
      "MENU: \n",
      "\n",
      "[1] - Novo registro\n",
      "[2] - Busca por nome\n",
      "[3] - Sair\n",
      "Nome: Lucas | Idade: 18 | Notas: ['10', '9.5', '8']\n",
      "\n",
      "MENU: \n",
      "\n",
      "[1] - Novo registro\n",
      "[2] - Busca por nome\n",
      "[3] - Sair\n",
      "Saindo do programa...\n"
     ]
    }
   ],
   "source": [
    "registros = []\n",
    "\n",
    "while True:\n",
    "    print(\"\\nMENU: \\n\")\n",
    "    print(\"[1] - Novo registro\")\n",
    "    print(\"[2] - Busca por nome\")\n",
    "    print(\"[3] - Sair\")\n",
    "\n",
    "    opcao = int(input(\"Digite uma opção: \"))\n",
    "\n",
    "    if opcao == 1:\n",
    "        nome = input('Digite o nome do aluno: ')\n",
    "        idade = int(input('Digite a idade do aluno: '))\n",
    "        notas = input('Digite as notas do aluno separadas por um espaço em branco: ').split()\n",
    "        registros.append((nome, idade, notas))\n",
    "\n",
    "    elif opcao == 2:\n",
    "        nome = input('Digite o nome do aluno: ')\n",
    "        encontrado = False\n",
    "        for registro in registros:\n",
    "            if registro[0] == nome:\n",
    "                print(f\"Nome: {registro[0]} | Idade: {registro[1]} | Notas: {registro[2]}\")\n",
    "                encontrado = True\n",
    "        if not encontrado:\n",
    "            print('O nome não consta nos registros!!!')\n",
    "\n",
    "    else:\n",
    "        print(\"Saindo do programa...\")\n",
    "        break"
   ]
  },
  {
   "cell_type": "code",
   "execution_count": null,
   "id": "28cf0111",
   "metadata": {},
   "outputs": [
    {
     "name": "stdout",
     "output_type": "stream",
     "text": [
      "\n",
      "MENU: \n",
      "\n",
      "[1] - Novo registro\n",
      "[2] - Busca por nome\n",
      "[3] - Sair\n",
      "\n",
      "MENU: \n",
      "\n",
      "[1] - Novo registro\n",
      "[2] - Busca por nome\n",
      "[3] - Sair\n",
      "Nome: Lucas | Idade: 18 | Notas: ['10']\n",
      "\n",
      "MENU: \n",
      "\n",
      "[1] - Novo registro\n",
      "[2] - Busca por nome\n",
      "[3] - Sair\n",
      "Saindo do programa...\n"
     ]
    }
   ],
   "source": [
    "while True:\n",
    "    print(\"\\nMENU: \\n\")\n",
    "    print(\"[1] - Novo registro\")\n",
    "    print(\"[2] - Busca por nome\")\n",
    "    print(\"[3] - Sair\")\n",
    "\n",
    "    opcao = int(input(\"Digite uma opção: \"))\n",
    "\n",
    "    match opcao:\n",
    "        case 1:\n",
    "            nome = input('Digite o nome do aluno: ')\n",
    "            idade = int(input('Digite a idade do aluno: '))\n",
    "            notas = input('Digite as notas do aluno separadas por um espaço em branco: ').split()\n",
    "            registros.append((nome, idade, notas))\n",
    "\n",
    "        case 2:\n",
    "            nome = input('Digite o nome do aluno: ')\n",
    "            encontrado = False\n",
    "            for registro in registros:\n",
    "                if registro[0] == nome:\n",
    "                    print(f\"Nome: {registro[0]} | Idade: {registro[1]} | Notas: {registro[2]}\")\n",
    "                    encontrado = True\n",
    "            if not encontrado:\n",
    "                print('O nome não consta nos registros!!!')\n",
    "\n",
    "        case _:\n",
    "            print(\"Saindo do programa...\")\n",
    "            break"
   ]
  },
  {
   "cell_type": "code",
   "execution_count": null,
   "id": "ef631e1d",
   "metadata": {},
   "outputs": [
    {
     "name": "stdout",
     "output_type": "stream",
     "text": [
      "\n",
      "MENU: \n",
      "\n",
      "[1] - Novo registro\n",
      "[2] - Busca por nome\n",
      "[3] - Sair\n",
      "Aluno Lucas cadastrado com sucesso!\n",
      "\n",
      "MENU: \n",
      "\n",
      "[1] - Novo registro\n",
      "[2] - Busca por nome\n",
      "[3] - Sair\n",
      "Nome: Lucas | Idade: 18 | Notas: ['10']\n",
      "\n",
      "MENU: \n",
      "\n",
      "[1] - Novo registro\n",
      "[2] - Busca por nome\n",
      "[3] - Sair\n"
     ]
    }
   ],
   "source": [
    "def cadastrar_aluno(registros):\n",
    "    nome = input('Digite o nome do aluno: ')\n",
    "    idade = int(input('Digite a idade do aluno: '))\n",
    "    notas = input('Digite as notas do aluno separadas por um espaço em branco: ').split()\n",
    "    registros.append((nome, idade, notas))\n",
    "    print(f\"Aluno {nome} cadastrado com sucesso!\")\n",
    "\n",
    "\n",
    "def buscar_aluno(registros):\n",
    "    nome = input('Digite o nome do aluno: ')\n",
    "    encontrado = False\n",
    "    for registro in registros:\n",
    "        if registro[0] == nome:\n",
    "            print(f\"Nome: {registro[0]} | Idade: {registro[1]} | Notas: {registro[2]}\")\n",
    "            encontrado = True\n",
    "    if not encontrado:\n",
    "        print('O nome não consta nos registros!!!')\n",
    "\n",
    "\n",
    "def menu():\n",
    "    print(\"\\nMENU: \\n\")\n",
    "    print(\"[1] - Novo registro\")\n",
    "    print(\"[2] - Busca por nome\")\n",
    "    print(\"[3] - Sair\")\n",
    "    return int(input(\"Digite uma opção: \"))\n",
    "\n",
    "registros = []\n",
    "    \n",
    "while True:\n",
    "    opcao = menu()\n",
    "        \n",
    "    match opcao:\n",
    "        case 1:\n",
    "            cadastrar_aluno(registros)\n",
    "        case 2:\n",
    "            buscar_aluno(registros)\n",
    "        case _:\n",
    "            print(\"Saindo do programa...\")\n",
    "            break"
   ]
  },
  {
   "cell_type": "markdown",
   "id": "a6e75bb7",
   "metadata": {},
   "source": [
    "7. Escreva uma um programa com uma função em que dada uma tupla, remova os valores duplicados. \n",
    "\n",
    "Exemplo de entrada: tupla = (1, 3, 5, 2, 3, 5, 1, 1, 3)\n",
    "\n",
    "Resultado: A tupla original é: (1, 3, 5, 2, 3, 5, 1, 1, 3)\n",
    "           \n",
    "           A tupla após a remoção de duplicatas: (1, 2, 3, 5)\n",
    "           \n",
    "           Obs: Não converter a tupla para nenhum outro tipo."
   ]
  },
  {
   "cell_type": "code",
   "execution_count": 11,
   "id": "c7ea6070",
   "metadata": {},
   "outputs": [
    {
     "name": "stdout",
     "output_type": "stream",
     "text": [
      "A tupla original é: (1, 2, 5, 2, 3, 5, 1, 1, 3)\n",
      "A tupla após a remoção de duplicatas: (1, 2, 5, 3)\n"
     ]
    }
   ],
   "source": [
    "tupla_original = (1, 2, 5, 2, 3, 5, 1, 1, 3)\n",
    "tupla_sem_duplicadas = ()\n",
    "\n",
    "for elemento in tupla_original:\n",
    "    if elemento not in tupla_sem_duplicadas:\n",
    "        tupla_sem_duplicadas += elemento,\n",
    "\n",
    "print(f'A tupla original é: {tupla_original}')\n",
    "print(f'A tupla após a remoção de duplicatas: {tupla_sem_duplicadas}')"
   ]
  },
  {
   "cell_type": "markdown",
   "id": "9c767031",
   "metadata": {},
   "source": [
    "# Exercícios: Dicionários"
   ]
  },
  {
   "cell_type": "markdown",
   "id": "f78bf168",
   "metadata": {},
   "source": [
    "1. Crie um dicionário contendo as cinco pessoas mais próximas de você, utilizando o nome de cada pessoa como chave e a cor da camisa que ela está usando como valor."
   ]
  },
  {
   "cell_type": "code",
   "execution_count": 16,
   "id": "4b69ca9d",
   "metadata": {},
   "outputs": [
    {
     "name": "stdout",
     "output_type": "stream",
     "text": [
      "{'Pessoa1': 'vermelho', 'Pessoa2': 'verde', 'Pessoa3': 'amarelo', 'Pessoa4': 'azul', 'Pessoa5': 'preto'}\n"
     ]
    }
   ],
   "source": [
    "\n",
    "dic_pessoas = {\"Pessoa1\": \"vermelho\",\n",
    "           \"Pessoa2\": \"verde\",\n",
    "           \"Pessoa3\": \"amarelo\",\n",
    "           \"Pessoa4\": \"azul\",\n",
    "           \"Pessoa5\": \"preto\"}\n",
    "print(dic_pessoas)"
   ]
  },
  {
   "cell_type": "markdown",
   "id": "2d69590d",
   "metadata": {},
   "source": [
    "2. Crie um dicionário vazio chamado semana e complete-o com uma chave para cada dia da semana. O valor de cada chave deve ser uma lista contendo as aulas que você tem nesse dia. Para sábado e domingo, a lista pode estar vazia caso você não tenha aulas nesses dias."
   ]
  },
  {
   "cell_type": "code",
   "execution_count": 18,
   "id": "2433d000",
   "metadata": {},
   "outputs": [
    {
     "name": "stdout",
     "output_type": "stream",
     "text": [
      "{'segunda': ['Desenvolvimento aplicações rápidas em python'], 'terça': ['Paradigmas de linguagem de programação com python', 'Estruturas de dados em C'], 'quarta': ['Tópicos avançados em TI'], 'quinta': ['Lógica de Programação'], 'sexta': ['Lógica de programação'], 'sabado': ['Dança de salão'], 'domingo': []}\n"
     ]
    }
   ],
   "source": [
    "semana = {}\n",
    "semana[\"segunda\"] = [\"Desenvolvimento aplicações rápidas em python\"]\n",
    "semana[\"terça\"] = [\"Paradigmas de linguagem de programação com python\", \"Estruturas de dados em C\"]\n",
    "semana[\"quarta\"] = [\"Tópicos avançados em TI\"]\n",
    "semana[\"quinta\"] = [\"Lógica de Programação\"]\n",
    "semana[\"sexta\"] = [\"Lógica de programação\"]\n",
    "semana[\"sabado\"] = [\"Dança de salão\"]\n",
    "semana[\"domingo\"] = []\n",
    "\n",
    "print(semana)"
   ]
  },
  {
   "cell_type": "markdown",
   "id": "76a519bb",
   "metadata": {},
   "source": [
    "3. Crie um dicionário vazio chamado filmes. Para cada filme, utilize o nome como chave e, como valor, outro dicionário que contenha o vilão do filme e o ano em que ele foi lançado. Preencha o dicionário com cinco filmes e, em seguida, acesse os dados armazenados para cada um deles."
   ]
  },
  {
   "cell_type": "code",
   "execution_count": 29,
   "id": "d51a771a",
   "metadata": {},
   "outputs": [
    {
     "name": "stdout",
     "output_type": "stream",
     "text": [
      "dict_keys(['O auto da compadecida', 'Breaking bad', 'O Silêncio dos Inocentes', 'Duro de Matar', 'Vingadores: Ultimato'])\n",
      "O auto da compadecida\n",
      "Breaking bad\n",
      "O Silêncio dos Inocentes\n",
      "Duro de Matar\n",
      "Vingadores: Ultimato\n",
      "dict_values([{'vilao': 'Severino', 'ano': 2000}, {'vilao': 'Hank Schrader', 'ano': 2013}, {'vilao': 'Hannibal Lecter', 'ano': 1991}, {'vilao': 'Hans Gruber', 'ano': 1988}, {'vilao': 'Thanos', 'ano': 2019}])\n",
      "{'vilao': 'Severino', 'ano': 2000}\n",
      "{'vilao': 'Hank Schrader', 'ano': 2013}\n",
      "{'vilao': 'Hannibal Lecter', 'ano': 1991}\n",
      "{'vilao': 'Hans Gruber', 'ano': 1988}\n",
      "{'vilao': 'Thanos', 'ano': 2019}\n",
      "O auto da compadecida {'vilao': 'Severino', 'ano': 2000}\n",
      "Breaking bad {'vilao': 'Hank Schrader', 'ano': 2013}\n",
      "O Silêncio dos Inocentes {'vilao': 'Hannibal Lecter', 'ano': 1991}\n",
      "Duro de Matar {'vilao': 'Hans Gruber', 'ano': 1988}\n",
      "Vingadores: Ultimato {'vilao': 'Thanos', 'ano': 2019}\n",
      "Severino\n",
      "2000\n",
      "Severino\n",
      "Hank Schrader\n",
      "Hannibal Lecter\n",
      "Hans Gruber\n",
      "Thanos\n"
     ]
    }
   ],
   "source": [
    "filmes = {}\n",
    "filmes[\"O auto da compadecida\"] = {\"vilao\": \"Severino\", \"ano\": 2000}\n",
    "filmes[\"Breaking bad\"] = {\"vilao\": \"Hank Schrader\", \"ano\": 2013}\n",
    "filmes[\"O Silêncio dos Inocentes\"] = {\"vilao\": \"Hannibal Lecter\", \"ano\": 1991}\n",
    "filmes[\"Duro de Matar\"] = {\"vilao\": \"Hans Gruber\", \"ano\": 1988}\n",
    "filmes[\"Vingadores: Ultimato\"] = {\"vilao\": \"Thanos\", \"ano\": 2019}\n",
    "\n",
    "print(filmes.keys())\n",
    "for filme in filmes: \n",
    "    print(filme)\n",
    "print(filmes.values())\n",
    "for filme in filmes: \n",
    "    print(filmes[filme])\n",
    "for key, value in filmes.items(): \n",
    "    print(key, value)\n",
    "    \n",
    "print(filmes[\"O auto da compadecida\"][\"vilao\"])\n",
    "print(filmes[\"O auto da compadecida\"][\"ano\"])\n",
    "\n",
    "for filme in filmes:\n",
    "    print(filmes[filme][\"vilao\"])"
   ]
  },
  {
   "cell_type": "markdown",
   "id": "ad1a8857",
   "metadata": {},
   "source": []
  }
 ],
 "metadata": {
  "kernelspec": {
   "display_name": "Python 3",
   "language": "python",
   "name": "python3"
  },
  "language_info": {
   "codemirror_mode": {
    "name": "ipython",
    "version": 3
   },
   "file_extension": ".py",
   "mimetype": "text/x-python",
   "name": "python",
   "nbconvert_exporter": "python",
   "pygments_lexer": "ipython3",
   "version": "3.10.12"
  }
 },
 "nbformat": 4,
 "nbformat_minor": 5
}
