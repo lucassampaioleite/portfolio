{
 "cells": [
  {
   "cell_type": "markdown",
   "id": "336683b8",
   "metadata": {},
   "source": [
    "# Funções"
   ]
  },
  {
   "cell_type": "markdown",
   "id": "89000152",
   "metadata": {},
   "source": [
    "1. Crie um programa em Python que defina uma função capaz de receber três argumentos numéricos e retornar a soma desses três valores. No programa principal, chame essa função e exiba o resultado obtido. "
   ]
  },
  {
   "cell_type": "code",
   "execution_count": 2,
   "id": "b1a020d8",
   "metadata": {},
   "outputs": [
    {
     "name": "stdout",
     "output_type": "stream",
     "text": [
      "30\n",
      "6.5\n",
      "6\n"
     ]
    }
   ],
   "source": [
    "def soma(arg1, arg2, arg3):\n",
    "    return arg1 + arg2 + arg3\n",
    "\n",
    "resultado = soma(9,10,11)\n",
    "print(resultado)\n",
    "print(soma(1, 2.5, 3))\n",
    "print(soma(1, 2, 3))"
   ]
  },
  {
   "cell_type": "markdown",
   "id": "922746e6",
   "metadata": {},
   "source": [
    "2. Crie um programa em Python que defina uma função que receba um único argumento. A função deve retornar o caractere 'P' se o argumento for positivo e 'N' se o argumento for zero ou negativo. No programa principal, chame a função e exiba o resultado correspondente."
   ]
  },
  {
   "cell_type": "code",
   "execution_count": 3,
   "id": "7aeb53ef",
   "metadata": {},
   "outputs": [
    {
     "name": "stdout",
     "output_type": "stream",
     "text": [
      "P\n",
      "N\n",
      "N\n"
     ]
    }
   ],
   "source": [
    "def positivo_ou_negativo(numero):\n",
    "    if numero > 0: \n",
    "        return \"P\"\n",
    "    else: \n",
    "        return \"N\"    \n",
    "    \n",
    "print(positivo_ou_negativo(1))\n",
    "print(positivo_ou_negativo(-1))\n",
    "print(positivo_ou_negativo(0))"
   ]
  },
  {
   "cell_type": "markdown",
   "id": "8b5569ad",
   "metadata": {},
   "source": [
    "3. Crie um programa em Python que defina uma função capaz de receber um número inteiro como argumento e retornar o seu reverso. Por exemplo, se o número informado for 127, a função deve retornar 721. No programa principal, chame a função e exiba o resultado."
   ]
  },
  {
   "cell_type": "code",
   "execution_count": 4,
   "id": "77e834b3",
   "metadata": {},
   "outputs": [
    {
     "name": "stdout",
     "output_type": "stream",
     "text": [
      "654321\n",
      "654321\n"
     ]
    }
   ],
   "source": [
    "def reverso(numero):\n",
    "    numero = str(numero)\n",
    "    return int(numero[::-1])\n",
    "\n",
    "print(reverso(\"123456\"))\n",
    "print(reverso(123456))"
   ]
  },
  {
   "cell_type": "markdown",
   "id": "d9966027",
   "metadata": {},
   "source": [
    "4. Crie um programa em Python que solicite um número inteiro n ao usuário e utilize uma função para imprimir um padrão de acordo com a imagem fornecida. A função deve receber o valor n como argumento e imprimir o padrão até a n-ésima linha."
   ]
  },
  {
   "cell_type": "code",
   "execution_count": 5,
   "id": "5aa8180c",
   "metadata": {},
   "outputs": [
    {
     "name": "stdout",
     "output_type": "stream",
     "text": [
      "1 \n",
      "2 2 \n",
      "3 3 3 \n",
      "4 4 4 4 \n",
      "5 5 5 5 5 \n"
     ]
    }
   ],
   "source": [
    "def imprimir_padrao(numero):\n",
    "    for i in range(1, numero + 1):\n",
    "        for j in range(1, i + 1):\n",
    "            print (i, end = \" \")\n",
    "        print()\n",
    "        \n",
    "imprimir_padrao(5)"
   ]
  },
  {
   "cell_type": "markdown",
   "id": "2aecbe3a",
   "metadata": {},
   "source": [
    "5. Crie um programa em Python que defina uma função capaz de calcular a potência a^b para valores inteiros de a e b informados pelo usuário. A função não deve usar o operador ** nem funções da biblioteca math. Em seguida, chame a função e exiba o resultado."
   ]
  },
  {
   "cell_type": "code",
   "execution_count": 6,
   "id": "790be683",
   "metadata": {},
   "outputs": [
    {
     "name": "stdout",
     "output_type": "stream",
     "text": [
      "8\n"
     ]
    }
   ],
   "source": [
    "def potencia(a, b):\n",
    "    resultado = a\n",
    "    if b == 0: \n",
    "        return 1\n",
    "    else:\n",
    "        for _ in range(2, b + 1):\n",
    "            resultado *= a\n",
    "        return resultado\n",
    "    \n",
    "print(potencia(2, 3))"
   ]
  },
  {
   "cell_type": "markdown",
   "id": "5f0e387d",
   "metadata": {},
   "source": [
    "6. Crie um programa em Python que defina uma função capaz de retornar a quantidade de dígitos de um número inteiro informado pelo usuário. A função deve receber o número inteiro como argumento e não deve realizar conversão de tipos (por exemplo, para string). Chame a função e exiba o resultado."
   ]
  },
  {
   "cell_type": "code",
   "execution_count": 7,
   "id": "28cf0111",
   "metadata": {},
   "outputs": [
    {
     "data": {
      "text/plain": [
       "4"
      ]
     },
     "execution_count": 7,
     "metadata": {},
     "output_type": "execute_result"
    }
   ],
   "source": [
    "def contar_digitos(numero):\n",
    "    return len(str(numero))\n",
    "\n",
    "contar_digitos(1998)"
   ]
  },
  {
   "cell_type": "code",
   "execution_count": 9,
   "id": "9d863404",
   "metadata": {},
   "outputs": [
    {
     "data": {
      "text/plain": [
       "4"
      ]
     },
     "execution_count": 9,
     "metadata": {},
     "output_type": "execute_result"
    }
   ],
   "source": [
    "def contar_digitos(numero):\n",
    "    if not(type(numero) == int):\n",
    "        return \n",
    "    resultado = 1\n",
    "    if numero < 0: \n",
    "        numero *= -1\n",
    "    while numero > 0:\n",
    "        numero //= 10\n",
    "        if numero > 0: \n",
    "            resultado += 1\n",
    "    return resultado\n",
    "\n",
    "contar_digitos(1998)\n",
    "\n"
   ]
  },
  {
   "cell_type": "markdown",
   "id": "e048b65d",
   "metadata": {},
   "source": [
    "7. Crie uma função calcular_dobro(numero) que: \n",
    "- Declare uma variável local chamada resultado; \n",
    "- Calcule o dobro do número recebido como parâmetro; \n",
    "- Retorne o valor de resultado. \n",
    "\n",
    "Teste chamando a função com diferentes números e tente acessar resultado fora dela. O que acontece?"
   ]
  },
  {
   "cell_type": "code",
   "execution_count": 10,
   "id": "7a6c3932",
   "metadata": {},
   "outputs": [
    {
     "name": "stdout",
     "output_type": "stream",
     "text": [
      "10\n",
      "24\n",
      "-6\n",
      "30\n"
     ]
    }
   ],
   "source": [
    "def calcular_dobro(numero):\n",
    "    resultado = numero * 2\n",
    "    return resultado\n",
    "\n",
    "print(calcular_dobro(5))   \n",
    "print(calcular_dobro(12))  \n",
    "print(calcular_dobro(-3))  \n",
    "\n",
    "print(resultado)  "
   ]
  },
  {
   "cell_type": "markdown",
   "id": "1ff92ace",
   "metadata": {},
   "source": [
    "8. Implemente uma função celsius_para_fahrenheit(celsius) que:\n",
    "- Use uma variável local fahrenheit para armazenar o resultado da conversão;\n",
    "- Retorne esse valor. \n",
    "\n",
    "Confirme que a variável fahrenheit não existe fora da função."
   ]
  },
  {
   "cell_type": "code",
   "execution_count": 12,
   "id": "9287f691",
   "metadata": {},
   "outputs": [
    {
     "name": "stdout",
     "output_type": "stream",
     "text": [
      "32.0\n",
      "77.0\n",
      "212.0\n"
     ]
    }
   ],
   "source": [
    "def celsius_para_fahrenheit(celsius):\n",
    "    fahrenheit = (celsius * 9/5) + 32\n",
    "    return fahrenheit\n",
    "\n",
    "print(celsius_para_fahrenheit(0))    \n",
    "print(celsius_para_fahrenheit(25))   \n",
    "print(celsius_para_fahrenheit(100))  \n",
    "\n",
    "#print(fahrenheit)  erro"
   ]
  },
  {
   "cell_type": "markdown",
   "id": "53471780",
   "metadata": {},
   "source": [
    "9. Crie uma variável global PI = 3.14159. Depois, implemente uma função calcular_circunferencia(raio) que:\n",
    "- Use a variável global PI para calcular a circunferência (2 * PI * raio).\n",
    "- Retorne o valor calculado. \n",
    "\n",
    "Mostre que PI pode ser acessada tanto dentro da função quanto fora dela."
   ]
  },
  {
   "cell_type": "code",
   "execution_count": 13,
   "id": "4bc384ff",
   "metadata": {},
   "outputs": [
    {
     "name": "stdout",
     "output_type": "stream",
     "text": [
      "6.28318\n",
      "31.4159\n",
      "Valor de PI fora da função: 3.14159\n"
     ]
    }
   ],
   "source": [
    "PI = 3.14159\n",
    "\n",
    "def calcular_circunferencia(raio):\n",
    "    circunferencia = 2 * PI * raio\n",
    "    return circunferencia\n",
    "\n",
    "print(calcular_circunferencia(1))  \n",
    "print(calcular_circunferencia(5))   \n",
    "\n",
    "print(\"Valor de PI fora da função:\", PI)\n"
   ]
  },
  {
   "cell_type": "markdown",
   "id": "14c89477",
   "metadata": {},
   "source": [
    "10. Implemente uma variável global acessos = 0. Depois, crie uma função registrar_login() que:\n",
    "- Use a palavra-chave global;\n",
    "- A cada chamada, incremente acessos em 1 e exiba o número total de logins registrados. \n",
    "\n",
    "Teste chamando a função várias vezes e verifique o valor atualizado de acessos."
   ]
  },
  {
   "cell_type": "code",
   "execution_count": 14,
   "id": "d0ed94c1",
   "metadata": {},
   "outputs": [
    {
     "name": "stdout",
     "output_type": "stream",
     "text": [
      "Total de logins registrados: 1\n",
      "Total de logins registrados: 2\n",
      "Total de logins registrados: 3\n",
      "Valor final de acessos fora da função: 3\n"
     ]
    }
   ],
   "source": [
    "acessos = 0\n",
    "\n",
    "def registrar_login():\n",
    "    global acessos  \n",
    "    acessos += 1\n",
    "    print(f\"Total de logins registrados: {acessos}\")\n",
    "\n",
    "registrar_login() \n",
    "registrar_login() \n",
    "registrar_login() \n",
    "\n",
    "print(\"Valor final de acessos fora da função:\", acessos)"
   ]
  },
  {
   "cell_type": "markdown",
   "id": "4c4d301e",
   "metadata": {},
   "source": [
    "11. Crie uma variável global saldo = 1000. Implemente uma função sacar(valor) que:\n",
    "- Verifique se há saldo suficiente;\n",
    "- Se sim, use global para atualizar o saldo global;\n",
    "- Use uma variável local mensagem para retornar se a operação foi bem-sucedida ou não.\n",
    "- Implemente também a função consultar_saldo() que apenas exibe o valor atual de saldo. \n",
    "\n",
    "Teste as funções criadas."
   ]
  },
  {
   "cell_type": "code",
   "execution_count": 15,
   "id": "8aac4445",
   "metadata": {},
   "outputs": [
    {
     "name": "stdout",
     "output_type": "stream",
     "text": [
      "Saldo atual: R$1000\n",
      "Saque de R$300 realizado com sucesso!\n",
      "Saldo atual: R$700\n",
      "Saldo insuficiente para sacar R$800.\n",
      "Saldo atual: R$700\n"
     ]
    }
   ],
   "source": [
    "saldo = 1000\n",
    "\n",
    "def sacar(valor):\n",
    "    global saldo  \n",
    "    if valor <= saldo:\n",
    "        saldo -= valor\n",
    "        mensagem = f\"Saque de R${valor} realizado com sucesso!\"\n",
    "    else:\n",
    "        mensagem = f\"Saldo insuficiente para sacar R${valor}.\"\n",
    "    return mensagem\n",
    "\n",
    "def consultar_saldo():\n",
    "    print(f\"Saldo atual: R${saldo}\")\n",
    "\n",
    "\n",
    "consultar_saldo()            \n",
    "print(sacar(300))            \n",
    "consultar_saldo()            \n",
    "print(sacar(800))            \n",
    "consultar_saldo()            "
   ]
  },
  {
   "cell_type": "markdown",
   "id": "7b696bc4",
   "metadata": {},
   "source": [
    "12. Escreva uma função que receba um número de parâmetros indefinido. Imprima a quantidade de parâmetros recebidos de cada tipo de dado. Também deve imprimir o maior e o menor valor numérico recebido."
   ]
  },
  {
   "cell_type": "code",
   "execution_count": 16,
   "id": "84027cb4",
   "metadata": {},
   "outputs": [
    {
     "name": "stdout",
     "output_type": "stream",
     "text": [
      "Quantidade de parâmetros por tipo:\n",
      "    int: 3 \n",
      "    float: 1\n",
      "    str: 1\n",
      "    bool: 1\n",
      "    list: 1\n",
      "    outros: 0\n",
      "Maior valor numérico: 42\n",
      "Menor valor numérico: -7\n"
     ]
    }
   ],
   "source": [
    "def analisar_parametros(*args):\n",
    "    qtd_int = 0\n",
    "    qtd_float = 0\n",
    "    qtd_str = 0\n",
    "    qtd_bool = 0\n",
    "    qtd_list = 0\n",
    "    qtd_outros = 0\n",
    "\n",
    "    numeros = []\n",
    "\n",
    "    for arg in args:\n",
    "        if isinstance(arg, int) and not isinstance(arg, bool):  \n",
    "            qtd_int += 1\n",
    "            numeros.append(arg)\n",
    "        elif isinstance(arg, float):\n",
    "            qtd_float += 1\n",
    "            numeros.append(arg)\n",
    "        elif isinstance(arg, str):\n",
    "            qtd_str += 1\n",
    "        elif isinstance(arg, bool):\n",
    "            qtd_bool += 1\n",
    "        elif isinstance(arg, list):\n",
    "            qtd_list += 1\n",
    "        else:\n",
    "            qtd_outros += 1\n",
    "\n",
    "    print(f\"\"\"Quantidade de parâmetros por tipo:\n",
    "    int: {qtd_int} \n",
    "    float: {qtd_float}\n",
    "    str: {qtd_str}\n",
    "    bool: {qtd_bool}\n",
    "    list: {qtd_list}\n",
    "    outros: {qtd_outros}\"\"\")\n",
    "\n",
    "    if numeros:\n",
    "        print(\"Maior valor numérico:\", max(numeros))\n",
    "        print(\"Menor valor numérico:\", min(numeros))\n",
    "    else:\n",
    "        print(\"Nenhum valor numérico recebido.\")\n",
    "\n",
    "\n",
    "analisar_parametros(10, 3.5, \"teste\", True, 42, [1, 2, 3], -7)\n"
   ]
  },
  {
   "cell_type": "markdown",
   "id": "56e7166e",
   "metadata": {},
   "source": [
    "13. Faça um programa que simule um lançamento de dados. Lance o dado 100 vezes e armazene os resultados em uma lista. Utilize uma lista de contadores (1-6) e depois da execução dos sorteios, mostre quantas vezes cada valor foi conseguido.\n",
    "\n",
    "- Dica: sorteios em python podem ser realizados através da biblioteca random, pelas funções randint() e randrange().\n",
    "\n",
    "- Documentação: https://docs.python.org/pt-br/3.8/library/random.html"
   ]
  },
  {
   "cell_type": "code",
   "execution_count": 17,
   "id": "cb0ce553",
   "metadata": {},
   "outputs": [
    {
     "name": "stdout",
     "output_type": "stream",
     "text": [
      "\n",
      "Frequência de cada valor:\n",
      "Valor 1: 18 vezes\n",
      "Valor 2: 15 vezes\n",
      "Valor 3: 22 vezes\n",
      "Valor 4: 14 vezes\n",
      "Valor 5: 14 vezes\n",
      "Valor 6: 17 vezes\n"
     ]
    }
   ],
   "source": [
    "import random\n",
    "\n",
    "def simular_dados():\n",
    "    contadores = [0] * 6        \n",
    "\n",
    "    for i in range(100):\n",
    "        valor = random.randint(1, 6)\n",
    "        contadores[valor - 1] += 1 \n",
    "\n",
    "    print(\"\\nFrequência de cada valor:\")\n",
    "    for i in range(6):\n",
    "        print(f\"Valor {i+1}: {contadores[i]} vezes\")\n",
    "\n",
    "simular_dados()"
   ]
  },
  {
   "cell_type": "code",
   "execution_count": 18,
   "id": "a6d5f4e9",
   "metadata": {},
   "outputs": [
    {
     "name": "stdout",
     "output_type": "stream",
     "text": [
      "Resultados dos 100 lançamentos: [2, 2, 2, 5, 2, 5, 5, 2, 6, 2, 4, 3, 3, 1, 2, 4, 6, 4, 1, 1, 3, 5, 5, 3, 6, 4, 5, 4, 5, 6, 1, 5, 6, 4, 2, 2, 2, 4, 5, 4, 5, 5, 5, 1, 1, 5, 3, 6, 6, 5, 4, 5, 2, 3, 2, 3, 4, 6, 2, 2, 5, 1, 1, 1, 1, 6, 3, 1, 5, 5, 6, 6, 2, 5, 2, 5, 1, 4, 3, 6, 1, 4, 2, 3, 1, 5, 2, 1, 6, 2, 3, 6, 5, 6, 1, 2, 6, 6, 3, 3]\n",
      "\n",
      "Frequência de cada valor:\n",
      "Valor 1: 16 vezes\n",
      "Valor 2: 20 vezes\n",
      "Valor 3: 13 vezes\n",
      "Valor 4: 12 vezes\n",
      "Valor 5: 22 vezes\n",
      "Valor 6: 17 vezes\n"
     ]
    }
   ],
   "source": [
    "import random\n",
    "\n",
    "def simular_dados():\n",
    "    resultados = []             \n",
    "    contadores = [0] * 6        \n",
    "\n",
    "    for i in range(100):\n",
    "        valor = random.randint(1, 6)\n",
    "        resultados.append(valor)\n",
    "        contadores[valor - 1] += 1 \n",
    "\n",
    "    print(\"Resultados dos 100 lançamentos:\", resultados)\n",
    "    print(\"\\nFrequência de cada valor:\")\n",
    "    for i in range(6):\n",
    "        print(f\"Valor {i+1}: {contadores[i]} vezes\")\n",
    "\n",
    "simular_dados()"
   ]
  },
  {
   "cell_type": "markdown",
   "id": "25ab2451",
   "metadata": {},
   "source": [
    "14. Construa uma função que receba uma string como parâmetro e devolva outra string com os carateres embaralhados.\n",
    "- Por exemplo: se função receber a palavra python, pode retornar npthyo, ophtyn ou qualquer outra combinação possível, de forma aleatória.\n",
    "- Padronize a sua função para que todos os caracteres sejam devolvidos em caixa alta ou caixa baixa, independentemente de como foram digitados."
   ]
  },
  {
   "cell_type": "code",
   "execution_count": 19,
   "id": "813e9513",
   "metadata": {},
   "outputs": [
    {
     "name": "stdout",
     "output_type": "stream",
     "text": [
      "yponth\n"
     ]
    }
   ],
   "source": [
    "from random import shuffle\n",
    "\n",
    "def embaralhar_string(string):\n",
    "    caracteres = list(string.lower())\n",
    "    shuffle(caracteres)\n",
    "    string_embaralhada=''\n",
    "    for caractere in caracteres:\n",
    "        string_embaralhada += caractere\n",
    "    return string_embaralhada\n",
    "\n",
    "print(embaralhar_string('Python'))"
   ]
  }
 ],
 "metadata": {
  "kernelspec": {
   "display_name": "Python 3",
   "language": "python",
   "name": "python3"
  },
  "language_info": {
   "codemirror_mode": {
    "name": "ipython",
    "version": 3
   },
   "file_extension": ".py",
   "mimetype": "text/x-python",
   "name": "python",
   "nbconvert_exporter": "python",
   "pygments_lexer": "ipython3",
   "version": "3.8.10"
  }
 },
 "nbformat": 4,
 "nbformat_minor": 5
}
