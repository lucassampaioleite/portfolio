{
 "cells": [
  {
   "cell_type": "markdown",
   "id": "336683b8",
   "metadata": {},
   "source": [
    "# Exercícios: estruturas de repetição"
   ]
  },
  {
   "cell_type": "markdown",
   "id": "89000152",
   "metadata": {},
   "source": [
    "1. Escreva um programa que escreva na tela, de 1 até 100, de 1 em 1, 2 vezes. A primeira vez deve usar a estrutura de repetição “for”, a segunda vez a estrutura “while”. \n"
   ]
  },
  {
   "cell_type": "code",
   "execution_count": 1,
   "id": "b1a020d8",
   "metadata": {},
   "outputs": [
    {
     "name": "stdout",
     "output_type": "stream",
     "text": [
      "1 2 3 4 5 6 7 8 9 10 11 12 13 14 15 16 17 18 19 20 21 22 23 24 25 26 27 28 29 30 31 32 33 34 35 36 37 38 39 40 41 42 43 44 45 46 47 48 49 50 51 52 53 54 55 56 57 58 59 60 61 62 63 64 65 66 67 68 69 70 71 72 73 74 75 76 77 78 79 80 81 82 83 84 85 86 87 88 89 90 91 92 93 94 95 96 97 98 99 100 \n"
     ]
    }
   ],
   "source": [
    "for i in range(1, 101):\n",
    "    print(i, end = \" \")\n",
    "print()"
   ]
  },
  {
   "cell_type": "code",
   "execution_count": 2,
   "id": "aa8bd530",
   "metadata": {},
   "outputs": [
    {
     "name": "stdout",
     "output_type": "stream",
     "text": [
      "1 2 3 4 5 6 7 8 9 10 11 12 13 14 15 16 17 18 19 20 21 22 23 24 25 26 27 28 29 30 31 32 33 34 35 36 37 38 39 40 41 42 43 44 45 46 47 48 49 50 51 52 53 54 55 56 57 58 59 60 61 62 63 64 65 66 67 68 69 70 71 72 73 74 75 76 77 78 79 80 81 82 83 84 85 86 87 88 89 90 91 92 93 94 95 96 97 98 99 100 \n"
     ]
    }
   ],
   "source": [
    "i = 1\n",
    "while i <= 100:\n",
    "    print(i, end = \" \")\n",
    "    i += 1\n",
    "print()"
   ]
  },
  {
   "cell_type": "markdown",
   "id": "922746e6",
   "metadata": {},
   "source": [
    "2. Faça um programa que peça ao usuário para digitar 10 valores, some-os e imprima o resultado."
   ]
  },
  {
   "cell_type": "code",
   "execution_count": 7,
   "id": "7aeb53ef",
   "metadata": {},
   "outputs": [
    {
     "name": "stdout",
     "output_type": "stream",
     "text": [
      "A soma dos valores é: 100.0\n"
     ]
    }
   ],
   "source": [
    "soma = 0\n",
    "\n",
    "for i in range(10):\n",
    "    valor = float(input(\"Digite um valor: \"))\n",
    "    soma += valor\n",
    "\n",
    "print(\"A soma dos valores é:\", soma)"
   ]
  },
  {
   "cell_type": "code",
   "execution_count": 1,
   "id": "fa4f9d60",
   "metadata": {},
   "outputs": [
    {
     "name": "stdout",
     "output_type": "stream",
     "text": [
      "A soma dos valores é: 185.0\n"
     ]
    }
   ],
   "source": [
    "soma = 0\n",
    "i = 0\n",
    "\n",
    "while i < 10:\n",
    "    valor = float(input(\"Digite um valor: \"))\n",
    "    soma += valor\n",
    "    i += 1\n",
    "\n",
    "print(\"A soma dos valores é:\", soma)"
   ]
  },
  {
   "cell_type": "markdown",
   "id": "8b5569ad",
   "metadata": {},
   "source": [
    "3. Faça um programa que leia 10 inteiros e imprima sua média."
   ]
  },
  {
   "cell_type": "code",
   "execution_count": 8,
   "id": "77e834b3",
   "metadata": {},
   "outputs": [
    {
     "name": "stdout",
     "output_type": "stream",
     "text": [
      "A média dos números digitados é: 10.0\n"
     ]
    }
   ],
   "source": [
    "soma = 0\n",
    "\n",
    "for i in range(10):\n",
    "    valor = int(input(\"Digite um número inteiro: \"))\n",
    "    soma += valor\n",
    "\n",
    "media = soma / 10\n",
    "print(\"A média dos números digitados é:\", media)"
   ]
  },
  {
   "cell_type": "markdown",
   "id": "d9966027",
   "metadata": {},
   "source": [
    "4. Faça um programa que leia 10 inteiros positivos, ignorando não positivos, e imprima sua média."
   ]
  },
  {
   "cell_type": "code",
   "execution_count": null,
   "id": "5aa8180c",
   "metadata": {},
   "outputs": [],
   "source": [
    "soma = 0\n",
    "cont = 0\n",
    "\n",
    "while cont < 10:\n",
    "    valor = int(input(f\"Digite o {cont+1}º inteiro positivo: \"))\n",
    "    if valor > 0:\n",
    "        soma += valor\n",
    "        cont += 1\n",
    "    else:\n",
    "        print(\"Valor não positivo ignorado. Digite um número positivo.\")\n",
    "\n",
    "media = soma / 10\n",
    "print(\"A média dos 10 inteiros positivos digitados é:\", media)"
   ]
  },
  {
   "cell_type": "markdown",
   "id": "2aecbe3a",
   "metadata": {},
   "source": [
    "5. Faça um programa que leia um numero inteiro “N” e depois imprima os N primeiros números naturais ímpares."
   ]
  },
  {
   "cell_type": "code",
   "execution_count": 11,
   "id": "790be683",
   "metadata": {},
   "outputs": [
    {
     "name": "stdout",
     "output_type": "stream",
     "text": [
      "1 3 5 7 9 11 13 15 17 19 \n"
     ]
    }
   ],
   "source": [
    "n = int(input(\"Digite um número inteiro N: \"))\n",
    "\n",
    "count = 1  \n",
    "num = 1    \n",
    "\n",
    "while count <= n:\n",
    "    print(num, end = \" \")\n",
    "    num += 2  \n",
    "    count += 1\n",
    "print()"
   ]
  },
  {
   "cell_type": "markdown",
   "id": "5f0e387d",
   "metadata": {},
   "source": [
    "6. Faça um programa que leia um numero inteiro positivo “N” e imprima todos os números naturais de 0 até “N” em ordem crescente."
   ]
  },
  {
   "cell_type": "code",
   "execution_count": 12,
   "id": "28cf0111",
   "metadata": {},
   "outputs": [
    {
     "name": "stdout",
     "output_type": "stream",
     "text": [
      "0 1 2 3 4 5 6 7 8 9 10 \n"
     ]
    }
   ],
   "source": [
    "n = int(input(\"Digite um número inteiro positivo N: \"))\n",
    "\n",
    "for i in range(n + 1):\n",
    "    print(i, end = \" \")\n",
    "print()"
   ]
  },
  {
   "cell_type": "code",
   "execution_count": 2,
   "id": "cbd7c16c",
   "metadata": {},
   "outputs": [
    {
     "name": "stdout",
     "output_type": "stream",
     "text": [
      "0 1 2 3 4 5 6 7 8 9 10 \n"
     ]
    }
   ],
   "source": [
    "n = int(input(\"Digite um número inteiro positivo N: \"))\n",
    "i = 0\n",
    "\n",
    "while i <= n:\n",
    "    print(i, end = \" \")\n",
    "    i += 1\n",
    "print()"
   ]
  },
  {
   "cell_type": "markdown",
   "id": "a6e75bb7",
   "metadata": {},
   "source": [
    "7. Faça um programa que leia um numero inteiro positivo “N” e imprima todos os números naturais de 0 até N em ordem decrescente."
   ]
  },
  {
   "cell_type": "code",
   "execution_count": 13,
   "id": "c7ea6070",
   "metadata": {},
   "outputs": [
    {
     "name": "stdout",
     "output_type": "stream",
     "text": [
      "10 9 8 7 6 5 4 3 2 1 0 \n"
     ]
    }
   ],
   "source": [
    "n = int(input(\"Digite um número inteiro positivo N: \"))\n",
    "\n",
    "for i in range(n, -1, -1):\n",
    "    print(i, end = \" \")\n",
    "print()"
   ]
  },
  {
   "cell_type": "code",
   "execution_count": 6,
   "id": "0bc9c978",
   "metadata": {},
   "outputs": [
    {
     "name": "stdout",
     "output_type": "stream",
     "text": [
      "10 9 8 7 6 5 4 3 2 1 0 \n"
     ]
    }
   ],
   "source": [
    "n = int(input(\"Digite um número inteiro positivo N: \"))\n",
    "\n",
    "for i in range(n+1):\n",
    "    print(n-i, end = \" \")\n",
    "print()"
   ]
  },
  {
   "cell_type": "code",
   "execution_count": 4,
   "id": "b2dd3c41",
   "metadata": {},
   "outputs": [
    {
     "name": "stdout",
     "output_type": "stream",
     "text": [
      "10 9 8 7 6 5 4 3 2 1 0 \n"
     ]
    }
   ],
   "source": [
    "n = int(input(\"Digite um número inteiro positivo N: \"))\n",
    "i = n\n",
    "\n",
    "while i >= 0:\n",
    "    print(i, end = \" \")\n",
    "    i -= 1\n",
    "print()"
   ]
  },
  {
   "cell_type": "markdown",
   "id": "e048b65d",
   "metadata": {},
   "source": [
    "8. Faça um programa que receba dois números. Calcule e mostre:\n",
    "- a soma dos números pares desse intervalo de números, incluindo os números digitados;\n",
    "- a multiplicação dos números ímpares desse intervalo, incluindo os digitados."
   ]
  },
  {
   "cell_type": "code",
   "execution_count": 9,
   "id": "7a6c3932",
   "metadata": {},
   "outputs": [
    {
     "name": "stdout",
     "output_type": "stream",
     "text": [
      "Soma dos números pares no intervalo [8, 2]: 20\n",
      "Multiplicação dos números ímpares no intervalo [8, 2]: 105\n"
     ]
    }
   ],
   "source": [
    "num1 = int(input(\"Digite o primeiro número: \"))\n",
    "num2 = int(input(\"Digite o segundo número: \"))\n",
    "\n",
    "if num1 < num2:\n",
    "    inicio = num1\n",
    "    fim = num2\n",
    "else:\n",
    "    inicio = num2\n",
    "    fim = num1\n",
    "\n",
    "soma_pares = 0\n",
    "multiplicacao_impares = 1\n",
    "tem_impar = False\n",
    "\n",
    "for n in range(inicio, fim + 1):\n",
    "    if n % 2 == 0:\n",
    "        soma_pares += n\n",
    "    else:\n",
    "        multiplicacao_impares *= n\n",
    "        tem_impar = True\n",
    "\n",
    "print(f\"Soma dos números pares no intervalo [{num1}, {num2}]: {soma_pares}\")\n",
    "\n",
    "if tem_impar:\n",
    "    print(f\"Multiplicação dos números ímpares no intervalo [{num1}, {num2}]: {multiplicacao_impares}\")\n",
    "else:\n",
    "    print(\"Não há números ímpares no intervalo para multiplicar.\")"
   ]
  },
  {
   "cell_type": "markdown",
   "id": "1ff92ace",
   "metadata": {},
   "source": [
    "9. Faça um programa que imprima a tabuada de multiplicação de 1 a 9."
   ]
  },
  {
   "cell_type": "code",
   "execution_count": 5,
   "id": "9287f691",
   "metadata": {},
   "outputs": [
    {
     "name": "stdout",
     "output_type": "stream",
     "text": [
      "1 x 1 = 1\n",
      "1 x 2 = 2\n",
      "1 x 3 = 3\n",
      "1 x 4 = 4\n",
      "1 x 5 = 5\n",
      "1 x 6 = 6\n",
      "1 x 7 = 7\n",
      "1 x 8 = 8\n",
      "1 x 9 = 9\n",
      "1 x 10 = 10\n",
      "\n",
      "2 x 1 = 2\n",
      "2 x 2 = 4\n",
      "2 x 3 = 6\n",
      "2 x 4 = 8\n",
      "2 x 5 = 10\n",
      "2 x 6 = 12\n",
      "2 x 7 = 14\n",
      "2 x 8 = 16\n",
      "2 x 9 = 18\n",
      "2 x 10 = 20\n",
      "\n",
      "3 x 1 = 3\n",
      "3 x 2 = 6\n",
      "3 x 3 = 9\n",
      "3 x 4 = 12\n",
      "3 x 5 = 15\n",
      "3 x 6 = 18\n",
      "3 x 7 = 21\n",
      "3 x 8 = 24\n",
      "3 x 9 = 27\n",
      "3 x 10 = 30\n",
      "\n",
      "4 x 1 = 4\n",
      "4 x 2 = 8\n",
      "4 x 3 = 12\n",
      "4 x 4 = 16\n",
      "4 x 5 = 20\n",
      "4 x 6 = 24\n",
      "4 x 7 = 28\n",
      "4 x 8 = 32\n",
      "4 x 9 = 36\n",
      "4 x 10 = 40\n",
      "\n",
      "5 x 1 = 5\n",
      "5 x 2 = 10\n",
      "5 x 3 = 15\n",
      "5 x 4 = 20\n",
      "5 x 5 = 25\n",
      "5 x 6 = 30\n",
      "5 x 7 = 35\n",
      "5 x 8 = 40\n",
      "5 x 9 = 45\n",
      "5 x 10 = 50\n",
      "\n",
      "6 x 1 = 6\n",
      "6 x 2 = 12\n",
      "6 x 3 = 18\n",
      "6 x 4 = 24\n",
      "6 x 5 = 30\n",
      "6 x 6 = 36\n",
      "6 x 7 = 42\n",
      "6 x 8 = 48\n",
      "6 x 9 = 54\n",
      "6 x 10 = 60\n",
      "\n",
      "7 x 1 = 7\n",
      "7 x 2 = 14\n",
      "7 x 3 = 21\n",
      "7 x 4 = 28\n",
      "7 x 5 = 35\n",
      "7 x 6 = 42\n",
      "7 x 7 = 49\n",
      "7 x 8 = 56\n",
      "7 x 9 = 63\n",
      "7 x 10 = 70\n",
      "\n",
      "8 x 1 = 8\n",
      "8 x 2 = 16\n",
      "8 x 3 = 24\n",
      "8 x 4 = 32\n",
      "8 x 5 = 40\n",
      "8 x 6 = 48\n",
      "8 x 7 = 56\n",
      "8 x 8 = 64\n",
      "8 x 9 = 72\n",
      "8 x 10 = 80\n",
      "\n",
      "9 x 1 = 9\n",
      "9 x 2 = 18\n",
      "9 x 3 = 27\n",
      "9 x 4 = 36\n",
      "9 x 5 = 45\n",
      "9 x 6 = 54\n",
      "9 x 7 = 63\n",
      "9 x 8 = 72\n",
      "9 x 9 = 81\n",
      "9 x 10 = 90\n",
      "\n"
     ]
    }
   ],
   "source": [
    "for i in range(1, 10):       \n",
    "    for j in range(1, 11):  \n",
    "        print(f\"{i} x {j} = {i * j}\")\n",
    "    print() "
   ]
  },
  {
   "cell_type": "code",
   "execution_count": 11,
   "id": "4bc384ff",
   "metadata": {},
   "outputs": [
    {
     "name": "stdout",
     "output_type": "stream",
     "text": [
      "1 x 1 = 1\n",
      "2 x 1 = 2\n",
      "3 x 1 = 3\n",
      "4 x 1 = 4\n",
      "5 x 1 = 5\n",
      "6 x 1 = 6\n",
      "7 x 1 = 7\n",
      "8 x 1 = 8\n",
      "9 x 1 = 9\n",
      "10 x 1 = 10\n",
      "\n",
      "1 x 2 = 2\n",
      "2 x 2 = 4\n",
      "3 x 2 = 6\n",
      "4 x 2 = 8\n",
      "5 x 2 = 10\n",
      "6 x 2 = 12\n",
      "7 x 2 = 14\n",
      "8 x 2 = 16\n",
      "9 x 2 = 18\n",
      "10 x 2 = 20\n",
      "\n",
      "1 x 3 = 3\n",
      "2 x 3 = 6\n",
      "3 x 3 = 9\n",
      "4 x 3 = 12\n",
      "5 x 3 = 15\n",
      "6 x 3 = 18\n",
      "7 x 3 = 21\n",
      "8 x 3 = 24\n",
      "9 x 3 = 27\n",
      "10 x 3 = 30\n",
      "\n",
      "1 x 4 = 4\n",
      "2 x 4 = 8\n",
      "3 x 4 = 12\n",
      "4 x 4 = 16\n",
      "5 x 4 = 20\n",
      "6 x 4 = 24\n",
      "7 x 4 = 28\n",
      "8 x 4 = 32\n",
      "9 x 4 = 36\n",
      "10 x 4 = 40\n",
      "\n",
      "1 x 5 = 5\n",
      "2 x 5 = 10\n",
      "3 x 5 = 15\n",
      "4 x 5 = 20\n",
      "5 x 5 = 25\n",
      "6 x 5 = 30\n",
      "7 x 5 = 35\n",
      "8 x 5 = 40\n",
      "9 x 5 = 45\n",
      "10 x 5 = 50\n",
      "\n",
      "1 x 6 = 6\n",
      "2 x 6 = 12\n",
      "3 x 6 = 18\n",
      "4 x 6 = 24\n",
      "5 x 6 = 30\n",
      "6 x 6 = 36\n",
      "7 x 6 = 42\n",
      "8 x 6 = 48\n",
      "9 x 6 = 54\n",
      "10 x 6 = 60\n",
      "\n",
      "1 x 7 = 7\n",
      "2 x 7 = 14\n",
      "3 x 7 = 21\n",
      "4 x 7 = 28\n",
      "5 x 7 = 35\n",
      "6 x 7 = 42\n",
      "7 x 7 = 49\n",
      "8 x 7 = 56\n",
      "9 x 7 = 63\n",
      "10 x 7 = 70\n",
      "\n",
      "1 x 8 = 8\n",
      "2 x 8 = 16\n",
      "3 x 8 = 24\n",
      "4 x 8 = 32\n",
      "5 x 8 = 40\n",
      "6 x 8 = 48\n",
      "7 x 8 = 56\n",
      "8 x 8 = 64\n",
      "9 x 8 = 72\n",
      "10 x 8 = 80\n",
      "\n",
      "1 x 9 = 9\n",
      "2 x 9 = 18\n",
      "3 x 9 = 27\n",
      "4 x 9 = 36\n",
      "5 x 9 = 45\n",
      "6 x 9 = 54\n",
      "7 x 9 = 63\n",
      "8 x 9 = 72\n",
      "9 x 9 = 81\n",
      "10 x 9 = 90\n",
      "\n"
     ]
    }
   ],
   "source": [
    "j = 1\n",
    "while j <= 9:\n",
    "    i = 1\n",
    "    while i <= 10:\n",
    "        print(f\"{i} x {j} = {i * j}\")\n",
    "        i += 1\n",
    "    j += 1\n",
    "    print()"
   ]
  },
  {
   "cell_type": "markdown",
   "id": "14c89477",
   "metadata": {},
   "source": [
    "10. Escreva um programa que leia um numero inteiro positivo “N” e em seguida imprima “N” linhas do chamado Triângulo de Floyd. Para n = 6, temos:"
   ]
  },
  {
   "cell_type": "code",
   "execution_count": 19,
   "id": "d0ed94c1",
   "metadata": {},
   "outputs": [
    {
     "name": "stdout",
     "output_type": "stream",
     "text": [
      "1 \n",
      "2 3 \n",
      "4 5 6 \n",
      "7 8 9 10 \n",
      "11 12 13 14 15 \n"
     ]
    }
   ],
   "source": [
    "n = int(input(\"Digite um número inteiro positivo N: \"))\n",
    "\n",
    "num = 1\n",
    "for linha in range(1, n + 1):\n",
    "    for coluna in range(linha):\n",
    "        print(num, end=\" \")\n",
    "        num += 1\n",
    "    print()"
   ]
  }
 ],
 "metadata": {
  "kernelspec": {
   "display_name": "Python 3",
   "language": "python",
   "name": "python3"
  },
  "language_info": {
   "codemirror_mode": {
    "name": "ipython",
    "version": 3
   },
   "file_extension": ".py",
   "mimetype": "text/x-python",
   "name": "python",
   "nbconvert_exporter": "python",
   "pygments_lexer": "ipython3",
   "version": "3.11.10"
  }
 },
 "nbformat": 4,
 "nbformat_minor": 5
}
