{
 "cells": [
  {
   "cell_type": "markdown",
   "id": "336683b8",
   "metadata": {},
   "source": [
    "# Exercícios: Listas"
   ]
  },
  {
   "cell_type": "markdown",
   "id": "89000152",
   "metadata": {},
   "source": [
    "1. Faça um Programa que leia 5 números inteiros, armazene-os em uma lista e imprima essa lista na tela."
   ]
  },
  {
   "cell_type": "code",
   "execution_count": null,
   "id": "b1a020d8",
   "metadata": {},
   "outputs": [
    {
     "name": "stdout",
     "output_type": "stream",
     "text": [
      "Lista de números recebidos:  [1, 2, 3, 4, 5]\n"
     ]
    }
   ],
   "source": [
    "numeros = []\n",
    "for i in range(5):\n",
    "    numeros.append(int(input(f\"Digite o {i+1}º número inteiro: \")))\n",
    "print(\"Lista de números recebidos: \", numeros)"
   ]
  },
  {
   "cell_type": "markdown",
   "id": "922746e6",
   "metadata": {},
   "source": [
    "2. Faça um programa que leia 10 números inteiros. Cada numero par deve ser armazenado em uma lista de pares e cada impar tem que ser armazenado em uma lista de impares. Ao término do programa imprima as duas listas."
   ]
  },
  {
   "cell_type": "code",
   "execution_count": 1,
   "id": "7aeb53ef",
   "metadata": {},
   "outputs": [
    {
     "name": "stdout",
     "output_type": "stream",
     "text": [
      "Lista de números pares recebidos:  [2, 4, 6, 8, 4]\n",
      "Lista de números ímpares recebidos:  [1, 3, 5, 7, 9]\n"
     ]
    }
   ],
   "source": [
    "pares = []\n",
    "impares = []\n",
    "for i in range(10):\n",
    "    numero = int(input(f\"Digite o {i+1}º número inteiro: \"))\n",
    "    if numero % 2 == 0: \n",
    "        pares.append(numero)\n",
    "    else: \n",
    "        impares.append(numero)\n",
    "print(\"Lista de números pares recebidos: \", pares)\n",
    "print(\"Lista de números ímpares recebidos: \", impares)"
   ]
  },
  {
   "cell_type": "markdown",
   "id": "8b5569ad",
   "metadata": {},
   "source": [
    "3. Faça um programa que armazene as idades e as alturas de 4 alunos. Seu programa deve exibir quantos alunos com mais de 13 anos possuem uma altura inferior à altura média dentre todos os alunos."
   ]
  },
  {
   "cell_type": "code",
   "execution_count": 3,
   "id": "77e834b3",
   "metadata": {},
   "outputs": [
    {
     "name": "stdout",
     "output_type": "stream",
     "text": [
      "Existem 2 alunos com mais de 13 anos e que possuem altura inferior a média dentre todos os alunos\n"
     ]
    }
   ],
   "source": [
    "lista_idades = []\n",
    "lista_alturas = []\n",
    "contador_alunos = 0\n",
    "\n",
    "for i in range(4):\n",
    "    lista_idades.append(int(input(f\"Digite a idade do {i+1}º aluno: \")))\n",
    "    lista_alturas.append(float(input(f\"Digite a altura do {i+1}º aluno: \")))\n",
    "   \n",
    "media_alturas = sum(lista_alturas)/len(lista_alturas)\n",
    "\n",
    "for i in range(len(lista_idades)):\n",
    "    if lista_idades[i] > 13 and lista_alturas[i] < media_alturas:\n",
    "        contador_alunos += 1\n",
    "print(f\"Existem {contador_alunos} alunos com mais de 13 anos e que possuem altura inferior a média dentre todos os alunos\")"
   ]
  },
  {
   "cell_type": "markdown",
   "id": "d9966027",
   "metadata": {},
   "source": [
    "4. Modifique o programa da questão 3 para que o usuário indique a quantidade de alunos que será utilizada no programa. Assim antes de começar a leitura de idades e alturas, o programa deve solicitar ao usuário o quantitativo de alunos."
   ]
  },
  {
   "cell_type": "code",
   "execution_count": 3,
   "id": "5aa8180c",
   "metadata": {},
   "outputs": [
    {
     "name": "stdout",
     "output_type": "stream",
     "text": [
      "Existem 1 alunos com mais de 13 anos e que possuem altura inferior a média dentre todos os alunos\n"
     ]
    }
   ],
   "source": [
    "lista_idades = []\n",
    "lista_alturas = []\n",
    "contador_alunos = 0\n",
    "\n",
    "quantidade_alunos = int(input(\"Digite a quantidade de alunos: \"))\n",
    "\n",
    "for i in range(quantidade_alunos):\n",
    "    lista_idades.append(int(input(f\"Digite a idade do {i+1}º aluno: \")))\n",
    "    lista_alturas.append(float(input(f\"Digite a altura do {i+1}º aluno: \")))\n",
    "   \n",
    "media_alturas = sum(lista_alturas)/len(lista_alturas)\n",
    "\n",
    "for i in range(len(lista_idades)):\n",
    "    if lista_idades[i] > 13 and lista_alturas[i] < media_alturas:\n",
    "        contador_alunos += 1\n",
    "print(f\"Existem {contador_alunos} alunos com mais de 13 anos e que possuem altura inferior a média dentre todos os alunos\")"
   ]
  },
  {
   "cell_type": "markdown",
   "id": "2aecbe3a",
   "metadata": {},
   "source": [
    "5. Modifique o programa da questão 3 para que o programa funcione para qualquer quantidade de alunos. Assim, durante a leitura das idades e alturas o usuário poderá inserir um valor negativo para indicar que deseja interromper a leitura dos dados."
   ]
  },
  {
   "cell_type": "code",
   "execution_count": 4,
   "id": "790be683",
   "metadata": {},
   "outputs": [
    {
     "name": "stdout",
     "output_type": "stream",
     "text": [
      "Existem 2 alunos com mais de 13 anos e que possuem altura inferior a média dentre todos os alunos\n"
     ]
    }
   ],
   "source": [
    "lista_idades = []\n",
    "lista_alturas = []\n",
    "contador_alunos = 0\n",
    "\n",
    "while True:\n",
    "    idade = int(input(f\"Digite a idade do {len(lista_idades)+1}º aluno: \"))\n",
    "    if idade < 0:\n",
    "        break\n",
    "    lista_idades.append(idade)\n",
    "    lista_alturas.append(float(input(f\"Digite a altura do {len(lista_alturas)+1}º aluno: \")))\n",
    "   \n",
    "media_alturas = sum(lista_alturas)/len(lista_alturas)\n",
    "\n",
    "for i in range(len(lista_idades)):\n",
    "    if lista_idades[i] > 13 and lista_alturas[i] < media_alturas:\n",
    "        contador_alunos += 1\n",
    "print(f\"Existem {contador_alunos} alunos com mais de 13 anos e que possuem altura inferior a média dentre todos os alunos\")"
   ]
  },
  {
   "cell_type": "markdown",
   "id": "5f0e387d",
   "metadata": {},
   "source": [
    "6. Faça um programa que leia uma data de nascimento no formato dd/mm/aaaa e imprima a data com o mês escrito por extenso.\n",
    "     Exemplo: Data = 20/02/1995\n",
    "     Resultado gerado pelo programa: Você nasceu em 20 de fevereiro de 1995\n"
   ]
  },
  {
   "cell_type": "code",
   "execution_count": 5,
   "id": "28cf0111",
   "metadata": {},
   "outputs": [
    {
     "name": "stdout",
     "output_type": "stream",
     "text": [
      "Voce nasceu em 20 de fevereiro de 1995\n"
     ]
    }
   ],
   "source": [
    "meses = [\"janeiro\", \"fevereiro\",\"março\", \"abril\", \"maio\", \"junho\", \"julho\", \"agosto\", \"setembro\", \"outubro\", \"novembro\", \"dezembro\"]\n",
    "data_nascimento = input(\"Digite a sua data de nascimento no formato dd/mm/aaaa: \") \n",
    "print(f\"Voce nasceu em {data_nascimento[0:2]} de {meses[int(data_nascimento[3:5])-1]} de {data_nascimento[-4:]}\")"
   ]
  },
  {
   "cell_type": "code",
   "execution_count": 8,
   "id": "fefc1473",
   "metadata": {},
   "outputs": [
    {
     "name": "stdout",
     "output_type": "stream",
     "text": [
      "Voce nasceu em 20 de fevereiro de 1995\n"
     ]
    }
   ],
   "source": [
    "meses = [\"janeiro\", \"fevereiro\",\"março\", \"abril\", \"maio\", \"junho\", \"julho\", \"agosto\", \"setembro\", \"outubro\", \"novembro\", \"dezembro\"]\n",
    "data_nascimento = input(\"Digite a sua data de nascimento no formato dd/mm/aaaa: \") \n",
    "data_nascimento = data_nascimento.split(\"/\")\n",
    "print(f\"Voce nasceu em {data_nascimento[0]} de {meses[int(data_nascimento[1])-1]} de {data_nascimento[2]}\")"
   ]
  },
  {
   "cell_type": "markdown",
   "id": "a6e75bb7",
   "metadata": {},
   "source": [
    "7. Faça um programa que receba a temperatura média de cada mês do ano e armazene-as em uma lista. Após isto, calcule a média anual das temperaturas e mostre todas as temperaturas acima da média anual, e em que mês elas ocorreram (mostrar o mês por extenso: 1 – Janeiro, 2 – Fevereiro, . . . ).\n"
   ]
  },
  {
   "cell_type": "code",
   "execution_count": 9,
   "id": "c7ea6070",
   "metadata": {},
   "outputs": [
    {
     "name": "stdout",
     "output_type": "stream",
     "text": [
      "Temperaturas acima da média anual: \n",
      "4 -- abril\n",
      "8 -- agosto\n",
      "12 -- dezembro\n"
     ]
    }
   ],
   "source": [
    "meses = [\"janeiro\", \"fevereiro\",\"março\", \"abril\", \"maio\", \"junho\", \"julho\", \"agosto\", \"setembro\", \"outubro\", \"novembro\", \"dezembro\"]\n",
    "temperaturas_medias = []\n",
    "for i in range(len(meses)):\n",
    "    temperaturas_medias.append(float(input(f\"Digite a temperura média do mês de {meses[i]}: \")))\n",
    "media_anual = sum(temperaturas_medias) / len(temperaturas_medias)\n",
    "print(\"Temperaturas acima da média anual: \")\n",
    "for i in range(len(temperaturas_medias)):\n",
    "    if temperaturas_medias[i] > media_anual:\n",
    "        print(f\"{i+1} -- {meses[i]}\")"
   ]
  },
  {
   "cell_type": "markdown",
   "id": "e048b65d",
   "metadata": {},
   "source": [
    "8. Em uma competição de salto em distância cada atleta tem direito a cinco saltos. O resultado do atleta será determinado pela média dos cinco valores restantes. Você deve fazer um programa que receba o nome e as cinco distâncias alcançadas pelo atleta em seus saltos e depois informe o nome, os saltos e a média dos saltos. O programa deve ser encerrado quando não for informado o nome do atleta. A saída do programa deve ser conforme o exemplo abaixo:"
   ]
  },
  {
   "cell_type": "code",
   "execution_count": 2,
   "id": "7a6c3932",
   "metadata": {},
   "outputs": [
    {
     "name": "stdout",
     "output_type": "stream",
     "text": [
      "Atleta: Rodrigo Curvêllo \n",
      "\n",
      "Primeiro Salto: 6.5 m\n",
      "Segundo Salto: 6.1 m\n",
      "Terceiro Salto: 6.2 m\n",
      "Quarto Salto: 5.4 m\n",
      "Quinto Salto: 5.3 m\n",
      "\n",
      "Resultado final: \n",
      "Atleta:  Rodrigo Curvêllo\n",
      "Saltos: 6.5 - 6.1 - 6.2 - 5.4 - 5.3\n",
      "Média dos saltos: 5.9 m \n",
      "\n"
     ]
    }
   ],
   "source": [
    "lista_atletas = []\n",
    "\n",
    "while True:\n",
    "    lista_saltos = []\n",
    "    nome = input(\"Digite o nome do atleta\")\n",
    "    if nome == \"\":\n",
    "        break\n",
    "    for i in range (5):\n",
    "        lista_saltos.append(float(input(f\"Digite a distancia do salto {i+1}\")))\n",
    "    lista_atletas.append([nome, lista_saltos])\n",
    "\n",
    "lista_saida = [\"Primeiro\", \"Segundo\", \"Terceiro\", \"Quarto\", \"Quinto\"]\n",
    "for i in range(len(lista_atletas)):\n",
    "    print (f\"Atleta: {lista_atletas[i][0]} \\n\")\n",
    "    string_saltos=\"Saltos: \"\n",
    "    for j in range(len(lista_atletas[i][1])):\n",
    "        print (f\"{lista_saida[j]} Salto: {lista_atletas[i][1][j]} m\")\n",
    "        string_saltos += str(lista_atletas[i][1][j])+\" - \"\n",
    "    print (\"\\nResultado final: \")    \n",
    "    print (\"Atleta: \", lista_atletas[i][0])\n",
    "    print (string_saltos[:-3])\n",
    "    print (f\"Média dos saltos: {sum(lista_atletas[i][1])/5} m \\n\")"
   ]
  }
 ],
 "metadata": {
  "kernelspec": {
   "display_name": "Python 3",
   "language": "python",
   "name": "python3"
  },
  "language_info": {
   "codemirror_mode": {
    "name": "ipython",
    "version": 3
   },
   "file_extension": ".py",
   "mimetype": "text/x-python",
   "name": "python",
   "nbconvert_exporter": "python",
   "pygments_lexer": "ipython3",
   "version": "3.11.10"
  }
 },
 "nbformat": 4,
 "nbformat_minor": 5
}
