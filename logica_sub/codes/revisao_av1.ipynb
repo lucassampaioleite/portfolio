{
 "cells": [
  {
   "cell_type": "markdown",
   "id": "cdaba3d3",
   "metadata": {},
   "source": [
    "# Revisão"
   ]
  },
  {
   "cell_type": "markdown",
   "id": "12ace604",
   "metadata": {},
   "source": [
    "1. Faça um Programa que peça 2 números inteiros e um número real. Calcule e mostre:\n",
    "\n",
    "a) o produto do dobro do primeiro com metade do segundo. \n",
    "b) a soma do triplo do primeiro com o terceiro. \n",
    "c) o terceiro elevado ao cubo."
   ]
  },
  {
   "cell_type": "code",
   "execution_count": 2,
   "id": "4609236e",
   "metadata": {},
   "outputs": [
    {
     "name": "stdout",
     "output_type": "stream",
     "text": [
      "Resultado a) 10.0\n",
      "Resultado b) 17.75\n",
      "Resultado c) 20.80\n"
     ]
    }
   ],
   "source": [
    "inteiro_1 = int(input(\"Digite um número inteiro: \"))\n",
    "inteiro_2 = int(input(\"Digite outro número inteiro: \"))\n",
    "real = float(input(\"Digite um número real: \"))\n",
    "\n",
    "resultado_a = (2 * inteiro_1) * (inteiro_2 / 2)\n",
    "resultado_b = (3 * inteiro_1) + real\n",
    "resultado_c = real ** 3\n",
    "\n",
    "print(f\"\"\"Resultado a) {resultado_a}\n",
    "Resultado b) {resultado_b}\n",
    "Resultado c) {resultado_c:.2f}\"\"\")"
   ]
  },
  {
   "cell_type": "markdown",
   "id": "faa6135d",
   "metadata": {},
   "source": [
    "2. Escreva um programa em Python que leia três notas de um aluno e seus respectivos pesos. Em seguida, calcule a média ponderada e exiba a situação do aluno, conforme os critérios:\n",
    "\n",
    "a) Média maior ou igual a 7: \"Aprovado com média ponderada\" \n",
    "b) Média maior ou igual a 5 e menor que 7: \"Em recuperação com média ponderada\" \n",
    "c) Média menor que 5: \"Reprovado com média ponderada\""
   ]
  },
  {
   "cell_type": "code",
   "execution_count": 6,
   "id": "1cc67be8",
   "metadata": {},
   "outputs": [
    {
     "name": "stdout",
     "output_type": "stream",
     "text": [
      "Média ponderada: 5.50\n",
      "Em recuperação com média ponderada\n"
     ]
    }
   ],
   "source": [
    "nota_1 = float(input(\"Digite a primeira nota: \"))\n",
    "peso_1 = float(input(\"Digite o peso da primeira nota: \"))\n",
    "\n",
    "nota_2 = float(input(\"Digite a segunda nota: \"))\n",
    "peso_2 = float(input(\"Digite o peso da segunda nota: \"))\n",
    "\n",
    "nota_3 = float(input(\"Digite a terceira nota: \"))\n",
    "peso_3 = float(input(\"Digite o peso da terceira nota: \"))\n",
    "\n",
    "soma_pesos = peso_1 + peso_2 + peso_3\n",
    "media_ponderada = (nota_1 * peso_1 + nota_2 * peso_2 + nota_3 * peso_3) / soma_pesos\n",
    "\n",
    "print(f\"Média ponderada: {media_ponderada:.2f}\")\n",
    "\n",
    "if media_ponderada >= 7:\n",
    "    print(\"Aprovado com média ponderada\")\n",
    "elif media_ponderada >= 5:\n",
    "    print(\"Em recuperação com média ponderada\")\n",
    "else:\n",
    "    print(\"Reprovado com média ponderada\")"
   ]
  },
  {
   "cell_type": "markdown",
   "id": "b011f280",
   "metadata": {},
   "source": [
    "3. A prefeitura de uma cidade deseja fazer uma pesquisa entre seus habitantes. Faça um algoritmo para coletar e armazenar dados sobre o salário e número de filhos de cada habitante e após as leituras, escrever:\n",
    "\n",
    "a) Média de salário da população\n",
    "b) Média do número de filhos\n",
    "c) Maior salário dos habitantes\n",
    "d) Percentual de pessoas com salário menor que R$ 150,00\n",
    "\n",
    "Obs.: O final da leituras dos dados se dará com a entrada de um “salário negativo”."
   ]
  },
  {
   "cell_type": "code",
   "execution_count": 7,
   "id": "9bd30651",
   "metadata": {},
   "outputs": [
    {
     "name": "stdout",
     "output_type": "stream",
     "text": [
      "O salário médio da população é de: R$ 5049.67.\n",
      "O número médio de filhos é: 3.33.\n",
      "O maior salário é: R$ 10000.0.\n",
      "O percentual de pessoas com um salário inferior a 150 é: 33.33 %.\n"
     ]
    }
   ],
   "source": [
    "qtd_habitantes = 0\n",
    "total_salario = 0.0\n",
    "total_filhos = 0\n",
    "maior_salario = 0\n",
    "qtd_salario_baixo = 0\n",
    "\n",
    "while True:\n",
    "    salario = float(input(f\"Digite o salário do habitante {qtd_habitantes + 1}: \")) \n",
    "    if salario < 0: \n",
    "        break\n",
    "    if salario > maior_salario:\n",
    "        maior_salario = salario\n",
    "    if salario < 150.0:\n",
    "        qtd_salario_baixo += 1\n",
    "    total_salario += salario\n",
    "    filhos = float(input(f\"Digite o número de filhos do habitante {qtd_habitantes + 1}: \"))\n",
    "    total_filhos += filhos\n",
    "    qtd_habitantes += 1\n",
    "\n",
    "if qtd_habitantes > 0:\n",
    "    print(f\"O salário médio da população é de: R$ {total_salario / qtd_habitantes:.2f}.\")  \n",
    "    print(f\"O número médio de filhos é: {total_filhos / qtd_habitantes:.2f}.\")  \n",
    "    print(f\"O maior salário é: R$ {maior_salario}.\")  \n",
    "    print(f\"O percentual de pessoas com um salário inferior a 150 é: {100 * qtd_salario_baixo / qtd_habitantes:.2f} %.\")"
   ]
  },
  {
   "cell_type": "markdown",
   "id": "849863a2",
   "metadata": {},
   "source": [
    "4. Escreva um programa que leia um número inteiro e calcule a soma de todos os divisores desse número, com exceção dele próprio. Ex: a soma dos divisores do número 66 é 1 + 2 + 3 + 6 + 11 + 22 + 33 = 78. "
   ]
  },
  {
   "cell_type": "code",
   "execution_count": null,
   "id": "cbfed69b",
   "metadata": {},
   "outputs": [
    {
     "name": "stdout",
     "output_type": "stream",
     "text": [
      "A soma dos divisores do número 1 é: 0.\n"
     ]
    }
   ],
   "source": [
    "numero = int(input('Insira um número inteiro para calcular a soma de seus divisores: '))\n",
    "acumulador = 0\n",
    "for i in range(1, numero):\n",
    "    if numero % i == 0:\n",
    "        acumulador += i\n",
    "print(f'A soma dos divisores do número {numero} é: {acumulador}.')"
   ]
  },
  {
   "cell_type": "markdown",
   "id": "434fdea8",
   "metadata": {},
   "source": [
    "5. A série de Fibonacci é formada pela seqüência 0, 1, 1, 2, 3, 5, 8, 13, 21, 34, 55, ... Faça um programa capaz de gerar a série até o n−ésimo termo. "
   ]
  },
  {
   "cell_type": "code",
   "execution_count": null,
   "id": "4224efd5",
   "metadata": {},
   "outputs": [
    {
     "name": "stdout",
     "output_type": "stream",
     "text": [
      "Fibonacci até o 8º termo: 0, 1, 1, 2, 3, 5, 8, 13\n"
     ]
    }
   ],
   "source": [
    "numero = int(input('Digite o enésimo termo para calcular a sequência de Fibonacci: '))\n",
    "print(f'Fibonacci até o {numero}º termo: ', end='') \n",
    "if (numero == 1):\n",
    "    print(\"0\")\n",
    "elif(numero == 2):\n",
    "    print(\"0, 1\")\n",
    "else:\n",
    "    print(\"0, 1\", end='')\n",
    "    antecessor_do_antecessor = 0\n",
    "    antecessor = 1\n",
    "    for i in range(3, numero + 1):\n",
    "        numero_corrente = antecessor_do_antecessor + antecessor\n",
    "        print(f', {numero_corrente}', end='')\n",
    "        antecessor_do_antecessor = antecessor\n",
    "        antecessor = numero_corrente\n",
    "    print()"
   ]
  },
  {
   "cell_type": "markdown",
   "id": "56949487",
   "metadata": {},
   "source": []
  }
 ],
 "metadata": {
  "kernelspec": {
   "display_name": "Python 3",
   "language": "python",
   "name": "python3"
  },
  "language_info": {
   "codemirror_mode": {
    "name": "ipython",
    "version": 3
   },
   "file_extension": ".py",
   "mimetype": "text/x-python",
   "name": "python",
   "nbconvert_exporter": "python",
   "pygments_lexer": "ipython3",
   "version": "3.10.12"
  }
 },
 "nbformat": 4,
 "nbformat_minor": 5
}
