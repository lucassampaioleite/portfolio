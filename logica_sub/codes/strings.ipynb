{
 "cells": [
  {
   "cell_type": "markdown",
   "id": "336683b8",
   "metadata": {},
   "source": [
    "# Exercícios: Strings"
   ]
  },
  {
   "cell_type": "markdown",
   "id": "89000152",
   "metadata": {},
   "source": [
    "1. Faça um programa que leia 2 strings e informe o conteúdo delas seguido do seu comprimento. Informe também se as duas strings possuem o mesmo comprimento e são iguais ou diferentes no conteúdo. "
   ]
  },
  {
   "cell_type": "code",
   "execution_count": 1,
   "id": "b1a020d8",
   "metadata": {},
   "outputs": [
    {
     "name": "stdout",
     "output_type": "stream",
     "text": [
      "A primeira string possui conteúdo IF Baiano e tamanho 9.\n",
      "A segunda string possui conteúdo IF Baiano e tamanho 9.\n",
      "As strings possuem o mesmo comprimento e o mesmo conteúdo.\n"
     ]
    }
   ],
   "source": [
    "string1 = input(\"Escreva a primeira string: \")\n",
    "string2 = input(\"Escreva a segunda string: \")\n",
    "\n",
    "print(f\"A primeira string possui conteúdo {string1} e tamanho {len(string1)}.\") \n",
    "print(f\"A segunda string possui conteúdo {string2} e tamanho {len(string2)}.\") \n",
    "\n",
    "if(len(string1) == len(string2)): \n",
    "    print(\"As strings possuem o mesmo comprimento e \", end=\"\")\n",
    "else: \n",
    "    print(\"As strings possuem diferentes comprimentos e \", end=\"\")\n",
    "\n",
    "if(string1 == string2): \n",
    "    print('o mesmo conteúdo.')\n",
    "else: \n",
    "    print('conteúdos distintos.')"
   ]
  },
  {
   "cell_type": "markdown",
   "id": "922746e6",
   "metadata": {},
   "source": [
    "2. Faça um programa que permita ao usuário digitar o seu nome e em seguida mostre o nome do usuário de trás para frente utilizando somente letras maiúsculas. Dica: lembre-se que ao informar o nome, o usuário pode digitar letras maiúsculas ou minúsculas."
   ]
  },
  {
   "cell_type": "code",
   "execution_count": null,
   "id": "7aeb53ef",
   "metadata": {},
   "outputs": [
    {
     "name": "stdout",
     "output_type": "stream",
     "text": [
      "Seu nome de trás para frente e com todas as letras maiúsculas é: SACUL\n"
     ]
    }
   ],
   "source": [
    "nome = input(\"Digite o seu nome: \").upper()\n",
    "print(\"Seu nome de trás para frente e com todas as letras maiúsculas é:\", nome[::-1])"
   ]
  },
  {
   "cell_type": "code",
   "execution_count": null,
   "id": "fa4f9d60",
   "metadata": {},
   "outputs": [
    {
     "name": "stdout",
     "output_type": "stream",
     "text": [
      "Seu nome de trás para frente e com todas as letras maiúsculas é: SACUL\n"
     ]
    }
   ],
   "source": [
    "nome = input(\"Digite o seu nome: \").upper()\n",
    "print(\"Seu nome de trás para frente e com todas as letras maiúsculas é: \", end=\"\")\n",
    "for i in range(len(nome)):\n",
    "    print (nome[-i-1], end=\"\")\n",
    "print()"
   ]
  },
  {
   "cell_type": "code",
   "execution_count": 7,
   "id": "20ccc3aa",
   "metadata": {},
   "outputs": [
    {
     "name": "stdout",
     "output_type": "stream",
     "text": [
      "Seu nome de trás para frente e com todas as letras maiúsculas é: SACUL\n"
     ]
    }
   ],
   "source": [
    "nome = input(\"Digite o seu nome: \").upper()\n",
    "print(\"Seu nome de trás para frente e com todas as letras maiúsculas é: \", end=\"\")\n",
    "for i in range(len(nome)-1, -1, -1):\n",
    "    print(nome[i], end=\"\")\n",
    "print()"
   ]
  },
  {
   "cell_type": "markdown",
   "id": "8b5569ad",
   "metadata": {},
   "source": [
    "3. Faça um programa que solicite uma string ao usuário e em seguida a imprima em formato de escada."
   ]
  },
  {
   "cell_type": "code",
   "execution_count": 4,
   "id": "77e834b3",
   "metadata": {},
   "outputs": [
    {
     "name": "stdout",
     "output_type": "stream",
     "text": [
      "L\n",
      "Lu\n",
      "Luc\n",
      "Luca\n",
      "Lucas\n"
     ]
    }
   ],
   "source": [
    "string1 = input(\"Digite uma string: \")\n",
    "for i in range(len(string1)):\n",
    "    print(string1[:i+1])"
   ]
  },
  {
   "cell_type": "markdown",
   "id": "d9966027",
   "metadata": {},
   "source": [
    "4. Altere o programa anterior de modo que a escada seja invertida."
   ]
  },
  {
   "cell_type": "code",
   "execution_count": 2,
   "id": "5aa8180c",
   "metadata": {},
   "outputs": [
    {
     "name": "stdout",
     "output_type": "stream",
     "text": [
      "Lucas\n",
      "Luca\n",
      "Luc\n",
      "Lu\n",
      "L\n"
     ]
    }
   ],
   "source": [
    "string1 = input(\"Digite uma string: \")\n",
    "for i in range(len(string1)):\n",
    "    print(string1[:len(string1)-i])"
   ]
  },
  {
   "cell_type": "markdown",
   "id": "2aecbe3a",
   "metadata": {},
   "source": [
    "5. Um palíndromo é uma seqüência de caracteres cuja leitura é idêntica se feita da direita para esquerda ou vice-versa. Por exemplo: OSSO e OVO são palíndromos. Em textos mais complexos os espaços e pontuação são ignorados. A frase SUBI NO ONIBUS é o exemplo de uma frase palíndroma onde os espaços foram ignorados. Faça um programa que leia uma seqüência de caracteres, mostre-a e diga se é um palíndromo ou não."
   ]
  },
  {
   "cell_type": "code",
   "execution_count": 9,
   "id": "790be683",
   "metadata": {},
   "outputs": [
    {
     "name": "stdout",
     "output_type": "stream",
     "text": [
      "Texto: SUBINOONIBUS\n",
      "Texto invertido: SUBINOONIBUS\n",
      "O texto é palíndromo.\n"
     ]
    }
   ],
   "source": [
    "texto = input(\"Digite um texto: \").upper().replace(\" \", \"\").replace(\",\", \"\").replace(\".\", \"\")\n",
    "texto_invertido = texto[::-1]\n",
    "print(f\"Texto: {texto}\")\n",
    "print(f\"Texto invertido: {texto_invertido}\")\n",
    "if(texto == texto_invertido): \n",
    "    print(\"O texto é palíndromo.\")\n",
    "else: print(\"O texto não é palíndromo.\")"
   ]
  },
  {
   "cell_type": "code",
   "execution_count": 12,
   "id": "ad79b9bc",
   "metadata": {},
   "outputs": [
    {
     "name": "stdout",
     "output_type": "stream",
     "text": [
      "True\n"
     ]
    }
   ],
   "source": [
    "texto = input(\"Digite um texto: \").upper().replace(\" \", \"\").replace(\",\", \"\").replace(\".\", \"\")\n",
    "print(texto == texto[::-1])"
   ]
  },
  {
   "cell_type": "markdown",
   "id": "5f0e387d",
   "metadata": {},
   "source": [
    "6. Faça um programa que recebe uma string que representa uma cadeia de DNA e gera a cadeia complementar. A entrada e saída de dados deve ser feita pelo programa principal. \n",
    "\n",
    "- Exemplo: \n",
    "- Entrada: AATCTGCAC\n",
    "- Saída: TTAGACGTG"
   ]
  },
  {
   "cell_type": "code",
   "execution_count": 13,
   "id": "28cf0111",
   "metadata": {},
   "outputs": [
    {
     "name": "stdout",
     "output_type": "stream",
     "text": [
      "Cadeia de DNA: ATCG\n",
      "Cadeia de DNA complementar: TAGC\n"
     ]
    }
   ],
   "source": [
    "cadeia = input(\"Digite uma cadeia de DNA: \").upper()\n",
    "complementar=\"\"\n",
    "for i in range(len(cadeia)):\n",
    "    if(cadeia[i] == \"A\"): \n",
    "        complementar += \"T\"\n",
    "    elif(cadeia[i] == \"T\"): \n",
    "        complementar += \"A\"\n",
    "    elif(cadeia[i] == \"G\"): \n",
    "        complementar += \"C\"\n",
    "    elif(cadeia[i] == \"C\"): \n",
    "        complementar += \"G\"\n",
    "    else: print(f\"O caractere da posição[{i}] é inválido!\")\n",
    "print(f\"Cadeia de DNA: {cadeia}\")\n",
    "print(f\"Cadeia de DNA complementar: {complementar}\")"
   ]
  },
  {
   "cell_type": "code",
   "execution_count": 3,
   "id": "ef631e1d",
   "metadata": {},
   "outputs": [
    {
     "name": "stdout",
     "output_type": "stream",
     "text": [
      "AACC\n"
     ]
    }
   ],
   "source": [
    "cadeia = input(\"Digite uma cadeia de DNA: \").upper().replace(\"A\", \"T\").replace(\"T\", \"A\").replace(\"C\", \"G\").replace(\"G\", \"C\")\n",
    "print(cadeia)"
   ]
  },
  {
   "cell_type": "code",
   "execution_count": 16,
   "id": "cbd7c16c",
   "metadata": {},
   "outputs": [
    {
     "name": "stdout",
     "output_type": "stream",
     "text": [
      "Cadeia de DNA: ATCG\n",
      "Cadeia de DNA complementar: TAGC\n"
     ]
    }
   ],
   "source": [
    "cadeia = input(\"Digite uma cadeia de DNA: \").upper()\n",
    "complementar = cadeia.replace(\"A\",\"t\").replace(\"T\",\"a\").replace(\"C\",\"g\").replace(\"G\",\"c\").upper()\n",
    "print(f\"Cadeia de DNA: {cadeia}\")\n",
    "print(f\"Cadeia de DNA complementar: {complementar}\")"
   ]
  },
  {
   "cell_type": "markdown",
   "id": "a6e75bb7",
   "metadata": {},
   "source": [
    "7. Faça um programa que leia uma data de nascimento no formato dd/mm/aaaa e imprima a data com o mês escrito por extenso. \n",
    "\n",
    "- Exemplo: Data = 20/02/1995\n",
    "- Resultado gerado pelo programa: Você nasceu em 20 de fevereiro de 1995"
   ]
  },
  {
   "cell_type": "code",
   "execution_count": 17,
   "id": "c7ea6070",
   "metadata": {},
   "outputs": [
    {
     "name": "stdout",
     "output_type": "stream",
     "text": [
      "Você nasceu em 25 de novembro de 2000\n"
     ]
    }
   ],
   "source": [
    "data = input(\"Digite uma data no formato dd/mm/aaaa: \")\n",
    "if(data[3:5] == \"01\"): mes = \"janeiro\"\n",
    "elif(data[3:5] == \"02\"): mes = \"fevereiro\"\n",
    "elif(data[3:5] == \"03\"): mes = \"marco\"\n",
    "elif(data[3:5] == \"04\"): mes = \"abril\"\n",
    "elif(data[3:5] == \"05\"): mes = \"maio\"\n",
    "elif(data[3:5] == \"06\"): mes = \"junho\"\n",
    "elif(data[3:5] == \"07\"): mes = \"julho\"\n",
    "elif(data[3:5] == \"08\"): mes = \"agosto\"\n",
    "elif(data[3:5] == \"09\"): mes = \"setembro\"\n",
    "elif(data[3:5] == \"10\"): mes = \"outubro\"\n",
    "elif(data[3:5] == \"11\"): mes = \"novembro\"\n",
    "elif(data[3:5] == \"12\"): mes = \"dezembro\"\n",
    "print(\"Você nasceu em\", data[:2], \"de\", mes, \"de\", data[6:])"
   ]
  },
  {
   "cell_type": "markdown",
   "id": "e048b65d",
   "metadata": {},
   "source": [
    "8. Escreva um programa que leia duas strings. Verifique se a segunda ocorre dentro da primeira e imprima a posição de início.\n",
    "- Exemplo: 1ª string: AABBEFAATT\n",
    "- 2ª string: BE\n",
    "- Resultado: BE encontrado na posição 3 de AABBEFAATT"
   ]
  },
  {
   "cell_type": "code",
   "execution_count": 12,
   "id": "7a6c3932",
   "metadata": {},
   "outputs": [
    {
     "name": "stdout",
     "output_type": "stream",
     "text": [
      "BE encontrado na posição 3 de AABBEFAATT.\n"
     ]
    }
   ],
   "source": [
    "string1 = input(\"Digite a primeira string: \")\n",
    "string2 = input(\"Digite a segunda string: \")\n",
    "if string1.find(string2) == -1: \n",
    "    print(f\"{string2} não ocorre dentro de {string1}.\")\n",
    "else: \n",
    "    print(f\"{string2} encontrado na posição {string1.find(string2)} de {string1}.\") "
   ]
  },
  {
   "cell_type": "markdown",
   "id": "1ff92ace",
   "metadata": {},
   "source": [
    "9. Escreva um programa que leia duas strings e gere uma terceira com os caracteres comuns às duas strings lidas. \n",
    "- Exemplo: \n",
    "- 1ª string: AAACTBF\n",
    "- 2ª string: CBT\n",
    "- Resultado: CBT\n",
    "- A ordem dos caracteres da string gerada não é importante, mas deve conter todas as letras comuns a ambas."
   ]
  },
  {
   "cell_type": "code",
   "execution_count": 13,
   "id": "9287f691",
   "metadata": {},
   "outputs": [
    {
     "name": "stdout",
     "output_type": "stream",
     "text": [
      "1ª string: AAACTBF\n",
      "2ª string: CBT\n",
      "Resultado: CTB\n"
     ]
    }
   ],
   "source": [
    "string1 = input(\"Digite a primeira string: \")\n",
    "string2 = input(\"Digite a segunda string: \")\n",
    "string3 = \"\"\n",
    "for caractere in string1:\n",
    "    if caractere in string2 and caractere not in string3:\n",
    "        string3 += caractere\n",
    "print(f'1ª string: {string1}')\n",
    "print(f'2ª string: {string2}')\n",
    "print(f'Resultado: {string3}')"
   ]
  },
  {
   "cell_type": "markdown",
   "id": "14c89477",
   "metadata": {},
   "source": [
    "10. Conta espaços e vogais. Dado uma string comuma frase informada pelo usuário (incluindo espaços em branco), conte: quantos espaços em branco existem na frase e quantas vezes aparecem as vogais a, e, i, o, u."
   ]
  },
  {
   "cell_type": "code",
   "execution_count": 18,
   "id": "d0ed94c1",
   "metadata": {},
   "outputs": [
    {
     "name": "stdout",
     "output_type": "stream",
     "text": [
      "A string fornecida possui: \n",
      "1 espaços em branco,\n",
      "2 vogal(is) a,\n",
      "0 vogal(is) e,\n",
      "2 vogal(is) i,\n",
      "1 vogal(is) o,\n",
      "0 vogal(is) u.\n"
     ]
    }
   ],
   "source": [
    "string = input(\"Digite uma string: \").lower()\n",
    "print(f\"\"\"A string fornecida possui: \n",
    "{string.count(\" \")} espaços em branco,\n",
    "{string.count(\"a\")} vogal(is) a,\n",
    "{string.count(\"e\")} vogal(is) e,\n",
    "{string.count(\"i\")} vogal(is) i,\n",
    "{string.count(\"o\")} vogal(is) o,\n",
    "{string.count(\"u\")} vogal(is) u.\"\"\")"
   ]
  },
  {
   "cell_type": "markdown",
   "id": "c2522c31",
   "metadata": {},
   "source": [
    "11. Escreva um programa que leia uma string e imprima quantas vezes cada caractere aparece nessa string. \n",
    "- String exemplo: TTAAC\n",
    "- Formato de saída: \n",
    "- T: 2x\n",
    "- A: 2x\n",
    "- C: 1x"
   ]
  },
  {
   "cell_type": "code",
   "execution_count": null,
   "id": "4aa547ab",
   "metadata": {},
   "outputs": [
    {
     "name": "stdout",
     "output_type": "stream",
     "text": [
      "T: 2x\n",
      "A: 2x\n",
      "C: 1x\n"
     ]
    }
   ],
   "source": [
    "string = input(\"Digite uma string: \")\n",
    "string_resultado=\"\"\n",
    "for caractere in string:\n",
    "    if caractere not in string_resultado:\n",
    "        string_resultado += caractere\n",
    "for caractere in string_resultado: \n",
    "    print(f'{caractere}: {string.count(caractere)}x')"
   ]
  },
  {
   "cell_type": "markdown",
   "id": "f394b6cb",
   "metadata": {},
   "source": [
    "12. Número por extenso. Escreva um programa que solicite ao usuári a digitação de um número até 99 e imprima-o na tela por extenso."
   ]
  },
  {
   "cell_type": "code",
   "execution_count": 10,
   "id": "4b67584e",
   "metadata": {},
   "outputs": [
    {
     "name": "stdout",
     "output_type": "stream",
     "text": [
      "quarenta e oito\n"
     ]
    }
   ],
   "source": [
    "numero = input(\"Digite uma string: \")\n",
    "if(int(numero) < 0 or int(numero) > 99):\n",
    "    print(\"O número digitado é inválido!!!\")\n",
    "else: \n",
    "    if(len(numero) == 2):\n",
    "        if(numero[0] == \"1\"):\n",
    "            if(numero[1] == \"0\"): print(\"dez\")\n",
    "            elif(numero[1] == \"1\"): print(\"onze\")\n",
    "            elif(numero[1] == \"2\"): print(\"doze\")\n",
    "            elif(numero[1] == \"3\"): print(\"treze\")\n",
    "            elif(numero[1] == \"4\"): print(\"catorze\")\n",
    "            elif(numero[1] == \"5\"): print(\"quinze\")\n",
    "            elif(numero[1] == \"8\"): print(\"dezoito\")\n",
    "            else:\n",
    "                if(numero[1] == \"9\"): print(\"deze\", end = \"\")\n",
    "                else: print(\"dezes\", end = \"\")\n",
    "                numero = numero[1]\n",
    "        elif (numero[0] == \"2\"):\n",
    "            if(numero[1] == \"0\"): print(\"vinte\")\n",
    "            else: \n",
    "                print(\"vinte e\", end = \" \")\n",
    "                numero = numero[1]\n",
    "        elif (numero[0] == \"3\"):\n",
    "            if(numero[1] == \"0\"): print(\"trinta\")\n",
    "            else: \n",
    "                print(\"trinta e\", end = \" \")\n",
    "                numero = numero[1]\n",
    "        elif (numero[0] == \"4\"):\n",
    "            if(numero[1] == \"0\"): print(\"quarenta\")\n",
    "            else: \n",
    "                print(\"quarenta e\", end = \" \")\n",
    "                numero = numero[1]\n",
    "        elif (numero[0] == \"5\"):\n",
    "            if(numero[1] == \"0\"): \n",
    "                print(\"cinquenta\")\n",
    "            else: \n",
    "                print(\"cinquenta e\", end = \" \")\n",
    "                numero = numero[1]\n",
    "        elif (numero[0] == \"6\"):\n",
    "            if(numero[1] == \"0\"): print(\"sessenta\")\n",
    "            else: \n",
    "                print(\"sessenta e\", end = \" \")\n",
    "                numero = numero[1]\n",
    "        elif (numero[0] == \"7\"):\n",
    "            if(numero[1] == \"0\"): print(\"setenta\")\n",
    "            else: \n",
    "                print(\"setenta e\", end = \" \")\n",
    "                numero = numero[1]\n",
    "        elif (numero[0] == \"8\"):\n",
    "            if(numero[1] == \"0\"): print(\"oitenta\")\n",
    "            else: \n",
    "                print(\"oitenta e\", end = \" \")\n",
    "                numero = numero[1]\n",
    "        elif (numero[0] == \"9\"):\n",
    "            if(numero[1] == \"0\"): print(\"noventa\")\n",
    "            else: \n",
    "                print(\"noventa e\", end = \" \")\n",
    "                numero = numero[1]\n",
    "    if len(numero) == 1:\n",
    "        if(numero == \"0\"): print(\"zero\")\n",
    "        elif(numero == \"1\"): print(\"um\")\n",
    "        elif(numero == \"2\"): print(\"dois\")\n",
    "        elif(numero == \"3\"): print(\"três\")\n",
    "        elif(numero == \"4\"): print(\"quatro\")\n",
    "        elif(numero == \"5\"): print(\"cinco\")\n",
    "        elif(numero == \"6\"): print(\"seis\")\n",
    "        elif(numero == \"7\"): print(\"sete\")\n",
    "        elif(numero == \"8\"): print(\"oito\")\n",
    "        elif(numero == \"9\"): print(\"nove\")  "
   ]
  },
  {
   "cell_type": "markdown",
   "id": "bc39c78a",
   "metadata": {},
   "source": [
    "13. Faça um programa que leia uma palavra e some 1 no valor Unicode de cada caractere da palavra. Imprima a string resultante. \n",
    "- Dica: O Python disponibiliza 2 funções que são bastante uteis quando estamos trabalhando com o sistema Unicode. A primeira é a funçãoord(), que recebe uma letra como parâmetro e retorna o código Unicode da mesma. A segunda função, é a chr(), onde passamos o código Unicode e nos é retornado a respectiva letra. \n",
    "- Tabela ASCII (subconjunto da tabela Unicode): https://www.ime.usp.br/~pf/algoritmos/apend/ascii.html"
   ]
  },
  {
   "cell_type": "code",
   "execution_count": 2,
   "id": "b1a23514",
   "metadata": {},
   "outputs": [
    {
     "name": "stdout",
     "output_type": "stream",
     "text": [
      "String digitada: GKZ\n",
      "String modificada HL[\n"
     ]
    }
   ],
   "source": [
    "string = input(\"Digite uma string: \")\n",
    "string_resultado = \"\"\n",
    "for caractere in string:\n",
    "    string_resultado += chr(ord(caractere) + 1)\n",
    "print(f\"\"\"String digitada: {string}\n",
    "String modificada {string_resultado}\"\"\")"
   ]
  },
  {
   "cell_type": "markdown",
   "id": "7bf3be0d",
   "metadata": {},
   "source": [
    "14. Faça um programa que solicite ao usuário uma string e modifique a string para que todos os caracteres fiquem em maiúsculas. \n",
    "- Obs: Não utilize a função upper().\n",
    "- Obs: Utilize a tabela ASCII."
   ]
  },
  {
   "cell_type": "code",
   "execution_count": 6,
   "id": "230f2e54",
   "metadata": {},
   "outputs": [
    {
     "name": "stdout",
     "output_type": "stream",
     "text": [
      "A string possui caracteres inválidos!!!\n",
      "Palavra original: Luças\n",
      "Palavra modificada: LU\n"
     ]
    }
   ],
   "source": [
    "string = input (\"Digite uma string: \")\n",
    "string_resultado = \"\"\n",
    "for caractere in string:\n",
    "    if ord(caractere) <= 64 or (ord(caractere) >= 91 and ord(caractere) <= 96) or ord(caractere) >= 123:\n",
    "        print(\"A string possui caracteres inválidos!!!\")\n",
    "        break\n",
    "    elif ord(caractere) >= 97 and ord(caractere) <= 122:\n",
    "        string_resultado += chr(ord(caractere) - 32)\n",
    "    else: string_resultado += caractere\n",
    "    \n",
    "print(f\"\"\"Palavra original: {string}\n",
    "Palavra modificada: {string_resultado}\"\"\")"
   ]
  },
  {
   "cell_type": "markdown",
   "id": "811deb0c",
   "metadata": {},
   "source": [
    "15. Faça um programa em que troque todas as ocorrencias de uma letra L1 pela letra L2 e da L2 pela L1 em uma string. A string e as letras L1 e L2 devem ser fornecidas pelo usuario. \n",
    "- Obs: Não utilize a função replace()."
   ]
  },
  {
   "cell_type": "code",
   "execution_count": 7,
   "id": "063c0ee3",
   "metadata": {},
   "outputs": [
    {
     "name": "stdout",
     "output_type": "stream",
     "text": [
      "String original: IFBAU\n",
      "String modificada: UFBAI\n"
     ]
    }
   ],
   "source": [
    "string = input (\"Digite uma string: \")\n",
    "caractere1 = input (\"Digite uma letra L1: \")\n",
    "caractere2 = input (\"Digite uma letra L2: \")\n",
    "string_resultado = \"\"\n",
    "\n",
    "for caractere in string:\n",
    "    if caractere == caractere1: \n",
    "        string_resultado += caractere2\n",
    "    elif caractere == caractere2: \n",
    "        string_resultado += caractere1\n",
    "    else: \n",
    "        string_resultado += caractere\n",
    "\n",
    "print(f\"\"\"String original: {string}\n",
    "String modificada: {string_resultado}\"\"\")"
   ]
  },
  {
   "cell_type": "markdown",
   "id": "ad1a8857",
   "metadata": {},
   "source": []
  }
 ],
 "metadata": {
  "kernelspec": {
   "display_name": "Python 3",
   "language": "python",
   "name": "python3"
  },
  "language_info": {
   "codemirror_mode": {
    "name": "ipython",
    "version": 3
   },
   "file_extension": ".py",
   "mimetype": "text/x-python",
   "name": "python",
   "nbconvert_exporter": "python",
   "pygments_lexer": "ipython3",
   "version": "3.10.12"
  }
 },
 "nbformat": 4,
 "nbformat_minor": 5
}
