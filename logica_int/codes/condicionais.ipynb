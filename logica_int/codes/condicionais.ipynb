{
 "cells": [
  {
   "cell_type": "markdown",
   "id": "2570c12b",
   "metadata": {},
   "source": [
    "# Correção"
   ]
  },
  {
   "cell_type": "markdown",
   "id": "10004ed0",
   "metadata": {},
   "source": [
    "1. Ler três números inteiros e mostrar o maior e o menor deles. "
   ]
  },
  {
   "cell_type": "code",
   "execution_count": 1,
   "id": "f3c2a7a2",
   "metadata": {},
   "outputs": [
    {
     "name": "stdout",
     "output_type": "stream",
     "text": [
      "O maior número é: 3\n",
      "O menor número é: 1\n"
     ]
    }
   ],
   "source": [
    "num1 = int(input(\"Digite o primeiro número: \"))\n",
    "num2 = int(input(\"Digite o segundo número: \"))\n",
    "num3 = int(input(\"Digite o terceiro número: \"))\n",
    "\n",
    "if num1 >= num2 and num1 >= num3:\n",
    "    maior = num1\n",
    "elif num2 >= num1 and num2 >= num3:\n",
    "    maior = num2\n",
    "else:\n",
    "    maior = num3\n",
    "\n",
    "if num1 <= num2 and num1 <= num3:\n",
    "    menor = num1\n",
    "elif num2 <= num1 and num2 <= num3:\n",
    "    menor = num2\n",
    "else:\n",
    "    menor = num3\n",
    "\n",
    "print(f\"O maior número é: {maior}\")\n",
    "print(f\"O menor número é: {menor}\")"
   ]
  },
  {
   "cell_type": "markdown",
   "id": "5beab2a8",
   "metadata": {},
   "source": [
    "2. Dados três valores distintos, fazer um programa que, após a leitura destes dados, coloque-os em ordem crescente."
   ]
  },
  {
   "cell_type": "code",
   "execution_count": 2,
   "id": "e0d21616",
   "metadata": {},
   "outputs": [
    {
     "name": "stdout",
     "output_type": "stream",
     "text": [
      "1 2 3\n"
     ]
    }
   ],
   "source": [
    "num1 = int(input(\"Digite o primeiro número: \"))\n",
    "num2 = int(input(\"Digite o segundo número: \"))\n",
    "num3 = int(input(\"Digite o terceiro número: \"))\n",
    "\n",
    "if num1 < num2 and num2 < num3:\n",
    "    print(num1, num2, num3)\n",
    "elif num1 < num3 and num3 < num2:\n",
    "    print(num1, num3, num2)\n",
    "elif num2 < num1 and num1 < num3:\n",
    "    print(num2, num1, num3)\n",
    "elif num2 < num3 and num3 < num1:\n",
    "    print(num2, num3, num1)\n",
    "elif num3 < num1 and num1 < num2:\n",
    "    print(num3, num1, num2)\n",
    "else:\n",
    "    print(num3, num2, num1)"
   ]
  },
  {
   "cell_type": "markdown",
   "id": "b4abde24",
   "metadata": {},
   "source": [
    "3. Elaborar um algoritmo que, dada a idade de um nadador, classificá-lo nas categorias: infantil A (5 - 7 anos), infantil B (8 -10 anos), juvenil A (11 - 13 anos), juvenil B (14 -17 anos) e adulto (maiores ou iguais que 18 anos)."
   ]
  },
  {
   "cell_type": "code",
   "execution_count": 3,
   "id": "37bd1700",
   "metadata": {},
   "outputs": [
    {
     "name": "stdout",
     "output_type": "stream",
     "text": [
      "Idade fora das categorias de natação.\n"
     ]
    }
   ],
   "source": [
    "idade = int(input(\"Digite a idade do nadador: \"))\n",
    "\n",
    "if idade >= 5 and idade <= 7:\n",
    "    print(\"Categoria: Infantil A\")\n",
    "elif idade >= 8 and idade <= 10:\n",
    "    print(\"Categoria: Infantil B\")\n",
    "elif idade >= 11 and idade <= 13:\n",
    "    print(\"Categoria: Juvenil A\")\n",
    "elif idade >= 14 and idade <= 17:\n",
    "    print(\"Categoria: Juvenil B\")\n",
    "elif idade >= 18:\n",
    "    print(\"Categoria: Adulto\")\n",
    "else:\n",
    "    print(\"Idade fora das categorias de natação.\")"
   ]
  },
  {
   "cell_type": "markdown",
   "id": "24a3872f",
   "metadata": {},
   "source": [
    "4. Ler um número inteiro e mostrar uma mensagem indicando se este número é par ou ímpar, e se é positivo ou negativo. "
   ]
  },
  {
   "cell_type": "code",
   "execution_count": 4,
   "id": "40f938ec",
   "metadata": {},
   "outputs": [
    {
     "name": "stdout",
     "output_type": "stream",
     "text": [
      "O número é par e positivo.\n"
     ]
    }
   ],
   "source": [
    "num = int(input(\"Digite um número inteiro: \"))\n",
    "\n",
    "if num % 2 == 0:\n",
    "    paridade = \"par\"\n",
    "else:\n",
    "    paridade = \"ímpar\"\n",
    "\n",
    "if num > 0:\n",
    "    sinal = \"positivo\"\n",
    "elif num < 0:\n",
    "    sinal = \"negativo\"\n",
    "else:\n",
    "    sinal = \"neutro\"\n",
    "\n",
    "print(f\"O número é {paridade} e {sinal}.\")"
   ]
  },
  {
   "cell_type": "markdown",
   "id": "a7689fa3",
   "metadata": {},
   "source": [
    "5. Escreva um programa em Python que leia duas notas de um aluno, calcule a média aritmética e imprima uma mensagem de acordo com o seguinte critério:\n",
    "\n",
    "a) Média maior ou igual a 7: \"Aprovado\"\n",
    "b) Média maior ou igual a 5 e menor que 7: \"Em recuperação\"\n",
    "c) Média menor que 5: \"Reprovado\"\n"
   ]
  },
  {
   "cell_type": "code",
   "execution_count": 5,
   "id": "130f3eae",
   "metadata": {},
   "outputs": [
    {
     "name": "stdout",
     "output_type": "stream",
     "text": [
      "Em recuperação\n"
     ]
    }
   ],
   "source": [
    "nota1 = float(input(\"Digite a primeira nota: \"))\n",
    "nota2 = float(input(\"Digite a segunda nota: \"))\n",
    "\n",
    "media = (nota1 + nota2) / 2\n",
    "\n",
    "if media >= 7:\n",
    "    print(\"Aprovado\")\n",
    "elif media >= 5:\n",
    "    print(\"Em recuperação\")\n",
    "else:\n",
    "    print(\"Reprovado\")"
   ]
  },
  {
   "cell_type": "markdown",
   "id": "22755497",
   "metadata": {},
   "source": [
    "6. Escreva um programa em Python que leia três notas de um aluno e seus respectivos pesos. Em seguida, calcule a média ponderada e exiba a situação do aluno, conforme os critérios:\n",
    "\n",
    "a) Média maior ou igual a 7: \"Aprovado com média ponderada\"\n",
    "\n",
    "b) Média maior ou igual a 5 e menor que 7: \"Em recuperação com média ponderada\"\n",
    "\n",
    "c) Média menor que 5: \"Reprovado com média ponderada\""
   ]
  },
  {
   "cell_type": "code",
   "execution_count": 1,
   "id": "e21ea4b5",
   "metadata": {},
   "outputs": [
    {
     "name": "stdout",
     "output_type": "stream",
     "text": [
      "Média ponderada: 10.00\n",
      "Aprovado com média ponderada\n"
     ]
    }
   ],
   "source": [
    "nota_1 = float(input(\"Digite a primeira nota: \"))\n",
    "peso_1 = float(input(\"Digite o peso da primeira nota: \"))\n",
    "\n",
    "nota_2 = float(input(\"Digite a segunda nota: \"))\n",
    "peso_2 = float(input(\"Digite o peso da segunda nota: \"))\n",
    "\n",
    "nota_3 = float(input(\"Digite a terceira nota: \"))\n",
    "peso_3 = float(input(\"Digite o peso da terceira nota: \"))\n",
    "\n",
    "soma_pesos = peso_1 + peso_2 + peso_3\n",
    "media_ponderada = (nota_1 * peso_1 + nota_2 * peso_2 + nota_3 * peso_3) / soma_pesos\n",
    "\n",
    "print(f\"Média ponderada: {media_ponderada:.2f}\")\n",
    "\n",
    "if media_ponderada >= 7:\n",
    "    print(\"Aprovado com média ponderada\")\n",
    "elif media_ponderada >= 5:\n",
    "    print(\"Em recuperação com média ponderada\")\n",
    "else:\n",
    "    print(\"Reprovado com média ponderada\")"
   ]
  }
 ],
 "metadata": {
  "kernelspec": {
   "display_name": "Python 3",
   "language": "python",
   "name": "python3"
  },
  "language_info": {
   "codemirror_mode": {
    "name": "ipython",
    "version": 3
   },
   "file_extension": ".py",
   "mimetype": "text/x-python",
   "name": "python",
   "nbconvert_exporter": "python",
   "pygments_lexer": "ipython3",
   "version": "3.10.12"
  }
 },
 "nbformat": 4,
 "nbformat_minor": 5
}
